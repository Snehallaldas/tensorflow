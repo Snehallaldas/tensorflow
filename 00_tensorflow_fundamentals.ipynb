{
  "nbformat": 4,
  "nbformat_minor": 0,
  "metadata": {
    "colab": {
      "provenance": [],
      "gpuType": "T4",
      "toc_visible": true
    },
    "kernelspec": {
      "name": "python3",
      "display_name": "Python 3"
    },
    "language_info": {
      "name": "python"
    }
  },
  "cells": [
    {
      "cell_type": "markdown",
      "source": [
        "#Some of the fundamental conceprt of tensor using tensorflow.\n"
      ],
      "metadata": {
        "id": "pUTzR_ciNUw4"
      }
    },
    {
      "cell_type": "code",
      "source": [
        "#import Tensorflow\n",
        "import tensorflow as tf\n",
        "print(tf.__version__)"
      ],
      "metadata": {
        "colab": {
          "base_uri": "https://localhost:8080/"
        },
        "id": "6oo7buauOOMi",
        "outputId": "068c3d72-e146-4c25-85ac-8e0bc451035e"
      },
      "execution_count": null,
      "outputs": [
        {
          "output_type": "stream",
          "name": "stdout",
          "text": [
            "2.18.0\n"
          ]
        }
      ]
    },
    {
      "cell_type": "code",
      "source": [
        "#Creating tensors with tf.constant()\n",
        "scalar = tf.constant(7)\n",
        "scalar"
      ],
      "metadata": {
        "colab": {
          "base_uri": "https://localhost:8080/"
        },
        "id": "O2wHHpjFO5Hy",
        "outputId": "31874eee-c8a6-41d0-8db7-b84d147bbb3d"
      },
      "execution_count": null,
      "outputs": [
        {
          "output_type": "execute_result",
          "data": {
            "text/plain": [
              "<tf.Tensor: shape=(), dtype=int32, numpy=7>"
            ]
          },
          "metadata": {},
          "execution_count": 2
        }
      ]
    },
    {
      "cell_type": "code",
      "source": [
        "#checking the number of dimenstions of a tensor\n",
        "scalar.ndim   #(ndim stand for number of dimension)"
      ],
      "metadata": {
        "colab": {
          "base_uri": "https://localhost:8080/"
        },
        "id": "Px6hKqyCPJve",
        "outputId": "31ac603c-b33b-4bc0-8575-0cf3a01d9fb9"
      },
      "execution_count": null,
      "outputs": [
        {
          "output_type": "execute_result",
          "data": {
            "text/plain": [
              "0"
            ]
          },
          "metadata": {},
          "execution_count": 3
        }
      ]
    },
    {
      "cell_type": "code",
      "source": [
        "#Create a vector\n",
        "vector = tf.constant([10,10])\n",
        "vector"
      ],
      "metadata": {
        "colab": {
          "base_uri": "https://localhost:8080/"
        },
        "id": "7sz2wdf8PksK",
        "outputId": "d3f82af9-70b1-45ad-f9c7-ba7af991f795"
      },
      "execution_count": null,
      "outputs": [
        {
          "output_type": "execute_result",
          "data": {
            "text/plain": [
              "<tf.Tensor: shape=(2,), dtype=int32, numpy=array([10, 10], dtype=int32)>"
            ]
          },
          "metadata": {},
          "execution_count": 4
        }
      ]
    },
    {
      "cell_type": "code",
      "source": [
        "#Check the dimension of vector\n",
        "vector.ndim"
      ],
      "metadata": {
        "colab": {
          "base_uri": "https://localhost:8080/"
        },
        "id": "dCGqKZMzP0Fh",
        "outputId": "4ba2238e-7eb6-4948-9758-61a72e5734de"
      },
      "execution_count": null,
      "outputs": [
        {
          "output_type": "execute_result",
          "data": {
            "text/plain": [
              "1"
            ]
          },
          "metadata": {},
          "execution_count": 5
        }
      ]
    },
    {
      "cell_type": "code",
      "source": [
        "#Create a matrix\n",
        "matrix = tf.constant([[10, 7],\n",
        "                      [7, 10]])\n",
        "matrix"
      ],
      "metadata": {
        "colab": {
          "base_uri": "https://localhost:8080/"
        },
        "id": "b3Iu4bLZQBO3",
        "outputId": "b68456d1-2a1e-49c1-eec3-1b3cdf884279"
      },
      "execution_count": null,
      "outputs": [
        {
          "output_type": "execute_result",
          "data": {
            "text/plain": [
              "<tf.Tensor: shape=(2, 2), dtype=int32, numpy=\n",
              "array([[10,  7],\n",
              "       [ 7, 10]], dtype=int32)>"
            ]
          },
          "metadata": {},
          "execution_count": 6
        }
      ]
    },
    {
      "cell_type": "code",
      "source": [
        "matrix.ndim"
      ],
      "metadata": {
        "colab": {
          "base_uri": "https://localhost:8080/"
        },
        "id": "q_3Rk-YLQQXg",
        "outputId": "c812bf2d-79b8-4576-d9a1-b64e86d1a4ca"
      },
      "execution_count": null,
      "outputs": [
        {
          "output_type": "execute_result",
          "data": {
            "text/plain": [
              "2"
            ]
          },
          "metadata": {},
          "execution_count": 7
        }
      ]
    },
    {
      "cell_type": "code",
      "source": [
        "#Create another Matrix\n",
        "another_matrix = tf.constant([[10., 7.],\n",
        "                              [3., 2.],\n",
        "                             [8., 9.]], dtype =tf.float16)  #specify the datatype with dtype parameter\n",
        "another_matrix"
      ],
      "metadata": {
        "colab": {
          "base_uri": "https://localhost:8080/"
        },
        "id": "UubADViKQcJk",
        "outputId": "01761fe0-979d-4c7f-ccb9-f909aef46313"
      },
      "execution_count": null,
      "outputs": [
        {
          "output_type": "execute_result",
          "data": {
            "text/plain": [
              "<tf.Tensor: shape=(3, 2), dtype=float16, numpy=\n",
              "array([[10.,  7.],\n",
              "       [ 3.,  2.],\n",
              "       [ 8.,  9.]], dtype=float16)>"
            ]
          },
          "metadata": {},
          "execution_count": 8
        }
      ]
    },
    {
      "cell_type": "code",
      "source": [
        "# The number of dimension\n",
        "another_matrix.ndim"
      ],
      "metadata": {
        "colab": {
          "base_uri": "https://localhost:8080/"
        },
        "id": "aaFwVD4nRSy4",
        "outputId": "360113ad-0de7-415d-8569-7ec4c94ccd03"
      },
      "execution_count": null,
      "outputs": [
        {
          "output_type": "execute_result",
          "data": {
            "text/plain": [
              "2"
            ]
          },
          "metadata": {},
          "execution_count": 9
        }
      ]
    },
    {
      "cell_type": "code",
      "source": [
        "#Let's create a tensor\n",
        "tensor = tf.constant([[[1, 2, 3],\n",
        "                       [4, 5, 6]],\n",
        "                      [[10, 11, 12],\n",
        "                       [7, 8, 9]],\n",
        "                      [[13, 14, 15],\n",
        "                       [16, 17, 18]]])\n",
        "tensor"
      ],
      "metadata": {
        "colab": {
          "base_uri": "https://localhost:8080/"
        },
        "id": "kJ3i8hXURa7d",
        "outputId": "1e231685-32f9-4792-d3d7-80a6f5a3b831"
      },
      "execution_count": null,
      "outputs": [
        {
          "output_type": "execute_result",
          "data": {
            "text/plain": [
              "<tf.Tensor: shape=(3, 2, 3), dtype=int32, numpy=\n",
              "array([[[ 1,  2,  3],\n",
              "        [ 4,  5,  6]],\n",
              "\n",
              "       [[10, 11, 12],\n",
              "        [ 7,  8,  9]],\n",
              "\n",
              "       [[13, 14, 15],\n",
              "        [16, 17, 18]]], dtype=int32)>"
            ]
          },
          "metadata": {},
          "execution_count": 10
        }
      ]
    },
    {
      "cell_type": "code",
      "source": [
        "tensor.ndim"
      ],
      "metadata": {
        "colab": {
          "base_uri": "https://localhost:8080/"
        },
        "id": "SO7j_iSxSBiN",
        "outputId": "7d9d23b0-3109-4a7e-8ed1-ca4e5fad0cdb"
      },
      "execution_count": null,
      "outputs": [
        {
          "output_type": "execute_result",
          "data": {
            "text/plain": [
              "3"
            ]
          },
          "metadata": {},
          "execution_count": 11
        }
      ]
    },
    {
      "cell_type": "markdown",
      "source": [
        "#What we created so far:\n",
        "Scalar: a single number\n",
        "Vector: a number with direction\n",
        "Matrix: a 2-dimensional array of number\n",
        "Tensor: an n-dimenstonal array of numbers"
      ],
      "metadata": {
        "id": "sgAiBVNqSGeG"
      }
    },
    {
      "cell_type": "code",
      "source": [
        "#Create the same tensor with tf.Variable() as above\n",
        "changable_tensor = tf.Variable([10, 7])\n",
        "unchangable_tensor = tf.constant([10,7])\n",
        "changable_tensor, unchangable_tensor"
      ],
      "metadata": {
        "id": "FAJtzasGTvTg",
        "colab": {
          "base_uri": "https://localhost:8080/"
        },
        "outputId": "1e4916b7-76f4-4d4d-88c3-3dac8b6e5661"
      },
      "execution_count": null,
      "outputs": [
        {
          "output_type": "execute_result",
          "data": {
            "text/plain": [
              "(<tf.Variable 'Variable:0' shape=(2,) dtype=int32, numpy=array([10,  7], dtype=int32)>,\n",
              " <tf.Tensor: shape=(2,), dtype=int32, numpy=array([10,  7], dtype=int32)>)"
            ]
          },
          "metadata": {},
          "execution_count": 12
        }
      ]
    },
    {
      "cell_type": "code",
      "source": [
        "#Let's try change one of the element in our changable tensor with the help of the .assign() operator\n",
        "changable_tensor[0].assign(20)\n",
        "changable_tensor\n"
      ],
      "metadata": {
        "colab": {
          "base_uri": "https://localhost:8080/"
        },
        "id": "hl71GR4zLMZH",
        "outputId": "02a83b49-e6e5-4b95-df4e-f8a24fc07ad0"
      },
      "execution_count": null,
      "outputs": [
        {
          "output_type": "execute_result",
          "data": {
            "text/plain": [
              "<tf.Variable 'Variable:0' shape=(2,) dtype=int32, numpy=array([20,  7], dtype=int32)>"
            ]
          },
          "metadata": {},
          "execution_count": 13
        }
      ]
    },
    {
      "cell_type": "code",
      "source": [
        "#Let's try changing our unchangable tensor\n",
        "unchangable_tensor[0].assign(12)\n",
        "unchangable_tensor"
      ],
      "metadata": {
        "colab": {
          "base_uri": "https://localhost:8080/",
          "height": 332
        },
        "id": "T5waCWb5L581",
        "outputId": "739e6f87-95e1-4887-e244-43a66daaa23c"
      },
      "execution_count": null,
      "outputs": [
        {
          "output_type": "error",
          "ename": "AttributeError",
          "evalue": "'tensorflow.python.framework.ops.EagerTensor' object has no attribute 'assign'",
          "traceback": [
            "\u001b[0;31m---------------------------------------------------------------------------\u001b[0m",
            "\u001b[0;31mAttributeError\u001b[0m                            Traceback (most recent call last)",
            "\u001b[0;32m<ipython-input-14-e3553daed479>\u001b[0m in \u001b[0;36m<cell line: 0>\u001b[0;34m()\u001b[0m\n\u001b[1;32m      1\u001b[0m \u001b[0;31m#Let's try changing our unchangable tensor\u001b[0m\u001b[0;34m\u001b[0m\u001b[0;34m\u001b[0m\u001b[0m\n\u001b[0;32m----> 2\u001b[0;31m \u001b[0munchangable_tensor\u001b[0m\u001b[0;34m[\u001b[0m\u001b[0;36m0\u001b[0m\u001b[0;34m]\u001b[0m\u001b[0;34m.\u001b[0m\u001b[0massign\u001b[0m\u001b[0;34m(\u001b[0m\u001b[0;36m12\u001b[0m\u001b[0;34m)\u001b[0m\u001b[0;34m\u001b[0m\u001b[0;34m\u001b[0m\u001b[0m\n\u001b[0m\u001b[1;32m      3\u001b[0m \u001b[0munchangable_tensor\u001b[0m\u001b[0;34m\u001b[0m\u001b[0;34m\u001b[0m\u001b[0m\n",
            "\u001b[0;32m/usr/local/lib/python3.11/dist-packages/tensorflow/python/framework/tensor.py\u001b[0m in \u001b[0;36m__getattr__\u001b[0;34m(self, name)\u001b[0m\n\u001b[1;32m    258\u001b[0m         \u001b[0mtf\u001b[0m\u001b[0;34m.\u001b[0m\u001b[0mexperimental\u001b[0m\u001b[0;34m.\u001b[0m\u001b[0mnumpy\u001b[0m\u001b[0;34m.\u001b[0m\u001b[0mexperimental_enable_numpy_behavior\u001b[0m\u001b[0;34m(\u001b[0m\u001b[0;34m)\u001b[0m\u001b[0;34m\u001b[0m\u001b[0;34m\u001b[0m\u001b[0m\n\u001b[1;32m    259\u001b[0m       \"\"\")\n\u001b[0;32m--> 260\u001b[0;31m     \u001b[0mself\u001b[0m\u001b[0;34m.\u001b[0m\u001b[0m__getattribute__\u001b[0m\u001b[0;34m(\u001b[0m\u001b[0mname\u001b[0m\u001b[0;34m)\u001b[0m\u001b[0;34m\u001b[0m\u001b[0;34m\u001b[0m\u001b[0m\n\u001b[0m\u001b[1;32m    261\u001b[0m \u001b[0;34m\u001b[0m\u001b[0m\n\u001b[1;32m    262\u001b[0m   \u001b[0;34m@\u001b[0m\u001b[0mproperty\u001b[0m\u001b[0;34m\u001b[0m\u001b[0;34m\u001b[0m\u001b[0m\n",
            "\u001b[0;31mAttributeError\u001b[0m: 'tensorflow.python.framework.ops.EagerTensor' object has no attribute 'assign'"
          ]
        }
      ]
    },
    {
      "cell_type": "markdown",
      "source": [
        "# Creating Random Tensors\n",
        "Random tensors are the tensors of some abitrary size which contain random numbers.\n",
        "\n"
      ],
      "metadata": {
        "id": "XSxzldqkNA7Q"
      }
    },
    {
      "cell_type": "code",
      "source": [
        "# Create the Random(but same) tensor\n",
        "random_1 = tf.random.Generator.from_seed(42)\n",
        "random_1 = random_1.normal(shape=(3, 2))\n",
        "random_1"
      ],
      "metadata": {
        "colab": {
          "base_uri": "https://localhost:8080/"
        },
        "id": "-jRNppPYMTKz",
        "outputId": "9eafbdc6-f442-474f-ea16-751c730b2546"
      },
      "execution_count": null,
      "outputs": [
        {
          "output_type": "execute_result",
          "data": {
            "text/plain": [
              "<tf.Tensor: shape=(3, 2), dtype=float32, numpy=\n",
              "array([[-0.7565803 , -0.06854702],\n",
              "       [ 0.07595026, -1.2573844 ],\n",
              "       [-0.23193763, -1.8107855 ]], dtype=float32)>"
            ]
          },
          "metadata": {},
          "execution_count": 15
        }
      ]
    },
    {
      "cell_type": "code",
      "source": [
        "random_2 = tf.random.Generator.from_seed(42) #set seed dfor reproducibility\n",
        "random_2 = random_2.normal(shape=(3,2))\n",
        "random_2\n",
        "# Are they equal?\n",
        "random_1==random_2"
      ],
      "metadata": {
        "colab": {
          "base_uri": "https://localhost:8080/"
        },
        "id": "g6HgJiLPO930",
        "outputId": "8f1bd7cf-2665-4e3a-c0ec-cc06ff37487a"
      },
      "execution_count": null,
      "outputs": [
        {
          "output_type": "execute_result",
          "data": {
            "text/plain": [
              "<tf.Tensor: shape=(3, 2), dtype=bool, numpy=\n",
              "array([[ True,  True],\n",
              "       [ True,  True],\n",
              "       [ True,  True]])>"
            ]
          },
          "metadata": {},
          "execution_count": 16
        }
      ]
    },
    {
      "cell_type": "code",
      "source": [],
      "metadata": {
        "id": "audH9GGMPlsh"
      },
      "execution_count": null,
      "outputs": []
    },
    {
      "cell_type": "markdown",
      "source": [
        "###Shuffle the order of elements in tensor\n",
        "\n"
      ],
      "metadata": {
        "id": "y2BWLl1N8Ntf"
      }
    },
    {
      "cell_type": "code",
      "source": [
        "#Suffle a tensor (valuable for when you want to shuffle your data so the inherent order does,t efect order)\n",
        "not_shuffled = tf.constant([[10, 7],\n",
        "                            [3, 4],\n",
        "                            [2, 5]])\n",
        "#Shuffle our non-shuffled tensor\n",
        "tf.random.shuffle(not_shuffled)"
      ],
      "metadata": {
        "colab": {
          "base_uri": "https://localhost:8080/"
        },
        "id": "Yh1blMpz4DdW",
        "outputId": "0270288c-1be5-4109-8a38-c695529fdf67"
      },
      "execution_count": null,
      "outputs": [
        {
          "output_type": "execute_result",
          "data": {
            "text/plain": [
              "<tf.Tensor: shape=(3, 2), dtype=int32, numpy=\n",
              "array([[10,  7],\n",
              "       [ 3,  4],\n",
              "       [ 2,  5]], dtype=int32)>"
            ]
          },
          "metadata": {},
          "execution_count": 17
        }
      ]
    },
    {
      "cell_type": "code",
      "source": [
        "#Shuffle our non-shuffled tensor\n",
        "tf.random.set_seed(42)\n",
        "tf.random.shuffle(not_shuffled, seed=42)"
      ],
      "metadata": {
        "colab": {
          "base_uri": "https://localhost:8080/"
        },
        "id": "AupTkNyk34NI",
        "outputId": "6f41196f-9565-44f7-fdd4-907c9af219ee"
      },
      "execution_count": null,
      "outputs": [
        {
          "output_type": "execute_result",
          "data": {
            "text/plain": [
              "<tf.Tensor: shape=(3, 2), dtype=int32, numpy=\n",
              "array([[10,  7],\n",
              "       [ 3,  4],\n",
              "       [ 2,  5]], dtype=int32)>"
            ]
          },
          "metadata": {},
          "execution_count": 18
        }
      ]
    },
    {
      "cell_type": "code",
      "source": [
        "tf.random.set_seed(7)\n",
        "tf.random.shuffle(not_shuffled, seed=7)"
      ],
      "metadata": {
        "colab": {
          "base_uri": "https://localhost:8080/"
        },
        "id": "DwqZTkXK5ZDP",
        "outputId": "d7fcd758-bb98-4b04-a26d-b6512ee0f852"
      },
      "execution_count": null,
      "outputs": [
        {
          "output_type": "execute_result",
          "data": {
            "text/plain": [
              "<tf.Tensor: shape=(3, 2), dtype=int32, numpy=\n",
              "array([[ 3,  4],\n",
              "       [10,  7],\n",
              "       [ 2,  5]], dtype=int32)>"
            ]
          },
          "metadata": {},
          "execution_count": 19
        }
      ]
    },
    {
      "cell_type": "code",
      "source": [
        "tf.random.set_seed(10) # global level random seed\n",
        "tf.random.shuffle(not_shuffled, seed=10) # operation level random seed"
      ],
      "metadata": {
        "colab": {
          "base_uri": "https://localhost:8080/"
        },
        "id": "nFCw11VN8rjw",
        "outputId": "ed7a6a54-1219-4d95-b7d0-4ce3e8b18e6f"
      },
      "execution_count": null,
      "outputs": [
        {
          "output_type": "execute_result",
          "data": {
            "text/plain": [
              "<tf.Tensor: shape=(3, 2), dtype=int32, numpy=\n",
              "array([[10,  7],\n",
              "       [ 2,  5],\n",
              "       [ 3,  4]], dtype=int32)>"
            ]
          },
          "metadata": {},
          "execution_count": 20
        }
      ]
    },
    {
      "cell_type": "markdown",
      "source": [
        "###What I understand about seed###\n",
        "**Seeds**: Seeds are of two types Global seed and Operational seed.\n",
        "\n",
        "\n",
        "1.  If neither the global seed nor the operation seed is set: A randomly picked seed is used for this op.\n",
        "2.  If the global seed is set, but the operation seed is not: The system deterministically picks an operation seed in conjunction with the global seed so that it gets a unique random sequence.\n",
        "3.  If the operation seed is set, but the global seed is not set: A default global seed and the specified operation seed are used to determine the random sequence.\n",
        "4.  If both the global and the operation seed are set: Both seeds are used in conjunction to determine the random sequence.\n"
      ],
      "metadata": {
        "id": "ibHE6o7f832g"
      }
    },
    {
      "cell_type": "markdown",
      "source": [
        "##Other ways to make tensor##"
      ],
      "metadata": {
        "id": "DEl6LWla_yXZ"
      }
    },
    {
      "cell_type": "code",
      "source": [
        "# Create a tensor of all ones\n",
        "tf.ones([10, 7])"
      ],
      "metadata": {
        "colab": {
          "base_uri": "https://localhost:8080/"
        },
        "id": "0wBHxZ1h8z3y",
        "outputId": "2b68b39b-dcd9-431a-e69d-0910012f190d"
      },
      "execution_count": null,
      "outputs": [
        {
          "output_type": "execute_result",
          "data": {
            "text/plain": [
              "<tf.Tensor: shape=(10, 7), dtype=float32, numpy=\n",
              "array([[1., 1., 1., 1., 1., 1., 1.],\n",
              "       [1., 1., 1., 1., 1., 1., 1.],\n",
              "       [1., 1., 1., 1., 1., 1., 1.],\n",
              "       [1., 1., 1., 1., 1., 1., 1.],\n",
              "       [1., 1., 1., 1., 1., 1., 1.],\n",
              "       [1., 1., 1., 1., 1., 1., 1.],\n",
              "       [1., 1., 1., 1., 1., 1., 1.],\n",
              "       [1., 1., 1., 1., 1., 1., 1.],\n",
              "       [1., 1., 1., 1., 1., 1., 1.],\n",
              "       [1., 1., 1., 1., 1., 1., 1.]], dtype=float32)>"
            ]
          },
          "metadata": {},
          "execution_count": 21
        }
      ]
    },
    {
      "cell_type": "code",
      "source": [
        "# Creating a tensor of all zeroes\n",
        "tf.zeros([10, 7])"
      ],
      "metadata": {
        "colab": {
          "base_uri": "https://localhost:8080/"
        },
        "id": "w26gSFSC__ZU",
        "outputId": "ebc1b4b9-d12d-4291-9b12-6453b7a6a23c"
      },
      "execution_count": null,
      "outputs": [
        {
          "output_type": "execute_result",
          "data": {
            "text/plain": [
              "<tf.Tensor: shape=(10, 7), dtype=float32, numpy=\n",
              "array([[0., 0., 0., 0., 0., 0., 0.],\n",
              "       [0., 0., 0., 0., 0., 0., 0.],\n",
              "       [0., 0., 0., 0., 0., 0., 0.],\n",
              "       [0., 0., 0., 0., 0., 0., 0.],\n",
              "       [0., 0., 0., 0., 0., 0., 0.],\n",
              "       [0., 0., 0., 0., 0., 0., 0.],\n",
              "       [0., 0., 0., 0., 0., 0., 0.],\n",
              "       [0., 0., 0., 0., 0., 0., 0.],\n",
              "       [0., 0., 0., 0., 0., 0., 0.],\n",
              "       [0., 0., 0., 0., 0., 0., 0.]], dtype=float32)>"
            ]
          },
          "metadata": {},
          "execution_count": 22
        }
      ]
    },
    {
      "cell_type": "markdown",
      "source": [
        "### Turn Numpy arrays into tensors\n",
        "\n",
        "The main diffrence between NumPy arrays and TensorFlow tensors is that tensors can be run on a GPU (much faster for numerical computing)."
      ],
      "metadata": {
        "id": "nTmeYOtXAbj1"
      }
    },
    {
      "cell_type": "code",
      "source": [
        "#You can also turn NumPy arrays into tensors\n",
        "import numpy as np\n",
        "numpy_A = np.arange(1, 25, dtype=np.int32)"
      ],
      "metadata": {
        "id": "gS_NCDezARov"
      },
      "execution_count": null,
      "outputs": []
    },
    {
      "cell_type": "code",
      "source": [
        "A = tf.constant(numpy_A, shape=(2, 3, 4))\n",
        "B = tf.constant(numpy_A)\n",
        "\n",
        "A,B"
      ],
      "metadata": {
        "colab": {
          "base_uri": "https://localhost:8080/"
        },
        "id": "dBx-a0gSBS4r",
        "outputId": "7d6b863b-a965-41e4-98e4-593bc8413276"
      },
      "execution_count": null,
      "outputs": [
        {
          "output_type": "execute_result",
          "data": {
            "text/plain": [
              "(<tf.Tensor: shape=(2, 3, 4), dtype=int32, numpy=\n",
              " array([[[ 1,  2,  3,  4],\n",
              "         [ 5,  6,  7,  8],\n",
              "         [ 9, 10, 11, 12]],\n",
              " \n",
              "        [[13, 14, 15, 16],\n",
              "         [17, 18, 19, 20],\n",
              "         [21, 22, 23, 24]]], dtype=int32)>,\n",
              " <tf.Tensor: shape=(24,), dtype=int32, numpy=\n",
              " array([ 1,  2,  3,  4,  5,  6,  7,  8,  9, 10, 11, 12, 13, 14, 15, 16, 17,\n",
              "        18, 19, 20, 21, 22, 23, 24], dtype=int32)>)"
            ]
          },
          "metadata": {},
          "execution_count": 24
        }
      ]
    },
    {
      "cell_type": "markdown",
      "source": [
        "###Getting Information from tensors\n",
        "When dealing with tensors you probabily want to be aware of the following attributes:\n",
        " * Shape\n",
        " * Rank\n",
        " * Axis or Dimension\n",
        " * Size"
      ],
      "metadata": {
        "id": "XIHbka4eB-KV"
      }
    },
    {
      "cell_type": "code",
      "source": [
        "# Create a rank 4 tensors (4 dimension)\n",
        "rank_4_tensor = tf.zeros(shape=[2, 3, 4, 5])\n",
        "rank_4_tensor"
      ],
      "metadata": {
        "colab": {
          "base_uri": "https://localhost:8080/"
        },
        "id": "b8BDGjPBBjWm",
        "outputId": "b93e77be-17b7-43a5-b925-e898345bac62"
      },
      "execution_count": null,
      "outputs": [
        {
          "output_type": "execute_result",
          "data": {
            "text/plain": [
              "<tf.Tensor: shape=(2, 3, 4, 5), dtype=float32, numpy=\n",
              "array([[[[0., 0., 0., 0., 0.],\n",
              "         [0., 0., 0., 0., 0.],\n",
              "         [0., 0., 0., 0., 0.],\n",
              "         [0., 0., 0., 0., 0.]],\n",
              "\n",
              "        [[0., 0., 0., 0., 0.],\n",
              "         [0., 0., 0., 0., 0.],\n",
              "         [0., 0., 0., 0., 0.],\n",
              "         [0., 0., 0., 0., 0.]],\n",
              "\n",
              "        [[0., 0., 0., 0., 0.],\n",
              "         [0., 0., 0., 0., 0.],\n",
              "         [0., 0., 0., 0., 0.],\n",
              "         [0., 0., 0., 0., 0.]]],\n",
              "\n",
              "\n",
              "       [[[0., 0., 0., 0., 0.],\n",
              "         [0., 0., 0., 0., 0.],\n",
              "         [0., 0., 0., 0., 0.],\n",
              "         [0., 0., 0., 0., 0.]],\n",
              "\n",
              "        [[0., 0., 0., 0., 0.],\n",
              "         [0., 0., 0., 0., 0.],\n",
              "         [0., 0., 0., 0., 0.],\n",
              "         [0., 0., 0., 0., 0.]],\n",
              "\n",
              "        [[0., 0., 0., 0., 0.],\n",
              "         [0., 0., 0., 0., 0.],\n",
              "         [0., 0., 0., 0., 0.],\n",
              "         [0., 0., 0., 0., 0.]]]], dtype=float32)>"
            ]
          },
          "metadata": {},
          "execution_count": 25
        }
      ]
    },
    {
      "cell_type": "code",
      "source": [
        "rank_4_tensor[0]"
      ],
      "metadata": {
        "colab": {
          "base_uri": "https://localhost:8080/"
        },
        "id": "uOkP6yptFP8k",
        "outputId": "41771d2d-5acc-4d6c-be18-120d5d4f6a38"
      },
      "execution_count": null,
      "outputs": [
        {
          "output_type": "execute_result",
          "data": {
            "text/plain": [
              "<tf.Tensor: shape=(3, 4, 5), dtype=float32, numpy=\n",
              "array([[[0., 0., 0., 0., 0.],\n",
              "        [0., 0., 0., 0., 0.],\n",
              "        [0., 0., 0., 0., 0.],\n",
              "        [0., 0., 0., 0., 0.]],\n",
              "\n",
              "       [[0., 0., 0., 0., 0.],\n",
              "        [0., 0., 0., 0., 0.],\n",
              "        [0., 0., 0., 0., 0.],\n",
              "        [0., 0., 0., 0., 0.]],\n",
              "\n",
              "       [[0., 0., 0., 0., 0.],\n",
              "        [0., 0., 0., 0., 0.],\n",
              "        [0., 0., 0., 0., 0.],\n",
              "        [0., 0., 0., 0., 0.]]], dtype=float32)>"
            ]
          },
          "metadata": {},
          "execution_count": 26
        }
      ]
    },
    {
      "cell_type": "code",
      "source": [
        "rank_4_tensor.shape ,rank_4_tensor.ndim, tf.size(rank_4_tensor)"
      ],
      "metadata": {
        "colab": {
          "base_uri": "https://localhost:8080/"
        },
        "id": "gIwVbRA0FyoI",
        "outputId": "8b60abe6-ac1a-460e-9cad-bc6ee498a320"
      },
      "execution_count": null,
      "outputs": [
        {
          "output_type": "execute_result",
          "data": {
            "text/plain": [
              "(TensorShape([2, 3, 4, 5]), 4, <tf.Tensor: shape=(), dtype=int32, numpy=120>)"
            ]
          },
          "metadata": {},
          "execution_count": 27
        }
      ]
    },
    {
      "cell_type": "code",
      "source": [
        "# Get various attributes of our tensor\n",
        "print(\"Datatype of every element:\", rank_4_tensor.dtype)\n",
        "print(\"Number of dimensions (rank)\", rank_4_tensor.ndim)\n",
        "print(\"Shape of tensor:\", rank_4_tensor.shape)\n",
        "print(\"Element along the 0 axis:\", rank_4_tensor.shape[0])\n",
        "print(\"Element along the last axis:\", rank_4_tensor.shape[-1])\n",
        "print(\"Total number of element in our tensor:\", tf.size(rank_4_tensor))"
      ],
      "metadata": {
        "colab": {
          "base_uri": "https://localhost:8080/"
        },
        "id": "lz6nyr5mF4cA",
        "outputId": "c0946db2-9698-4206-e9d5-c8e939be7ad5"
      },
      "execution_count": null,
      "outputs": [
        {
          "output_type": "stream",
          "name": "stdout",
          "text": [
            "Datatype of every element: <dtype: 'float32'>\n",
            "Number of dimensions (rank) 4\n",
            "Shape of tensor: (2, 3, 4, 5)\n",
            "Element along the 0 axis: 2\n",
            "Element along the last axis: 5\n",
            "Total number of element in our tensor: tf.Tensor(120, shape=(), dtype=int32)\n"
          ]
        }
      ]
    },
    {
      "cell_type": "markdown",
      "source": [
        "###Indexing tensors\n",
        "Tensors can be indexed just like Python lists."
      ],
      "metadata": {
        "id": "F4lN3Dti1hzf"
      }
    },
    {
      "cell_type": "code",
      "source": [
        "# Get the first 2 elements of each dimension\n",
        "rank_4_tensor[:2, :2, :2, :2]\n"
      ],
      "metadata": {
        "id": "uEfF_qlcHexB",
        "colab": {
          "base_uri": "https://localhost:8080/"
        },
        "outputId": "46ab18e7-d9aa-48fe-92a7-291c6fbb7dc2"
      },
      "execution_count": null,
      "outputs": [
        {
          "output_type": "execute_result",
          "data": {
            "text/plain": [
              "<tf.Tensor: shape=(2, 2, 2, 2), dtype=float32, numpy=\n",
              "array([[[[0., 0.],\n",
              "         [0., 0.]],\n",
              "\n",
              "        [[0., 0.],\n",
              "         [0., 0.]]],\n",
              "\n",
              "\n",
              "       [[[0., 0.],\n",
              "         [0., 0.]],\n",
              "\n",
              "        [[0., 0.],\n",
              "         [0., 0.]]]], dtype=float32)>"
            ]
          },
          "metadata": {},
          "execution_count": 29
        }
      ]
    },
    {
      "cell_type": "code",
      "source": [
        "# Get the first element from each dimension from each index except for the final one\n",
        "rank_4_tensor[:1, :1, :1,:]"
      ],
      "metadata": {
        "colab": {
          "base_uri": "https://localhost:8080/"
        },
        "id": "QKDg6zgR5JUM",
        "outputId": "8308fa1f-df60-4524-f9e2-a529ae5e6679"
      },
      "execution_count": null,
      "outputs": [
        {
          "output_type": "execute_result",
          "data": {
            "text/plain": [
              "<tf.Tensor: shape=(1, 1, 1, 5), dtype=float32, numpy=array([[[[0., 0., 0., 0., 0.]]]], dtype=float32)>"
            ]
          },
          "metadata": {},
          "execution_count": 30
        }
      ]
    },
    {
      "cell_type": "code",
      "source": [
        "rank_4_tensor[:1, :1, :,:1]"
      ],
      "metadata": {
        "colab": {
          "base_uri": "https://localhost:8080/"
        },
        "id": "z_pifvx-6gSV",
        "outputId": "fd77d7e6-34cd-4918-9522-a89b6c5911c6"
      },
      "execution_count": null,
      "outputs": [
        {
          "output_type": "execute_result",
          "data": {
            "text/plain": [
              "<tf.Tensor: shape=(1, 1, 4, 1), dtype=float32, numpy=\n",
              "array([[[[0.],\n",
              "         [0.],\n",
              "         [0.],\n",
              "         [0.]]]], dtype=float32)>"
            ]
          },
          "metadata": {},
          "execution_count": 31
        }
      ]
    },
    {
      "cell_type": "code",
      "source": [
        "rank_4_tensor[:1, :, :1,:1]"
      ],
      "metadata": {
        "colab": {
          "base_uri": "https://localhost:8080/"
        },
        "id": "w14Ub3Uu6u7K",
        "outputId": "0a2d0729-bd9e-4057-d678-cf89c374d3ab"
      },
      "execution_count": null,
      "outputs": [
        {
          "output_type": "execute_result",
          "data": {
            "text/plain": [
              "<tf.Tensor: shape=(1, 3, 1, 1), dtype=float32, numpy=\n",
              "array([[[[0.]],\n",
              "\n",
              "        [[0.]],\n",
              "\n",
              "        [[0.]]]], dtype=float32)>"
            ]
          },
          "metadata": {},
          "execution_count": 32
        }
      ]
    },
    {
      "cell_type": "code",
      "source": [
        "rank_4_tensor[:, :1, :1,:1]"
      ],
      "metadata": {
        "colab": {
          "base_uri": "https://localhost:8080/"
        },
        "id": "xb41FOUK6yME",
        "outputId": "75f1d440-23bd-4a05-c644-dfe0e7ceaa68"
      },
      "execution_count": null,
      "outputs": [
        {
          "output_type": "execute_result",
          "data": {
            "text/plain": [
              "<tf.Tensor: shape=(2, 1, 1, 1), dtype=float32, numpy=\n",
              "array([[[[0.]]],\n",
              "\n",
              "\n",
              "       [[[0.]]]], dtype=float32)>"
            ]
          },
          "metadata": {},
          "execution_count": 33
        }
      ]
    },
    {
      "cell_type": "code",
      "source": [
        "# Create a rank 2 tensor (2 dimensions)\n",
        "rank_2_tensor = tf.constant([[7, 10],\n",
        "                             [3, 5]])\n",
        "rank_2_tensor, rank_2_tensor.shape, rank_2_tensor.ndim"
      ],
      "metadata": {
        "colab": {
          "base_uri": "https://localhost:8080/"
        },
        "id": "CF0Orf5-63oE",
        "outputId": "d5dd6525-6358-42ee-f23f-40daa79078f4"
      },
      "execution_count": null,
      "outputs": [
        {
          "output_type": "execute_result",
          "data": {
            "text/plain": [
              "(<tf.Tensor: shape=(2, 2), dtype=int32, numpy=\n",
              " array([[ 7, 10],\n",
              "        [ 3,  5]], dtype=int32)>,\n",
              " TensorShape([2, 2]),\n",
              " 2)"
            ]
          },
          "metadata": {},
          "execution_count": 34
        }
      ]
    },
    {
      "cell_type": "code",
      "source": [
        "# Get the last item of each of eanh row of our rank 2 tensor\n",
        "rank_2_tensor[:, -1]"
      ],
      "metadata": {
        "colab": {
          "base_uri": "https://localhost:8080/"
        },
        "id": "7xuZz2_87bsp",
        "outputId": "3fdd5531-87fb-451f-faf8-21b249f6130e"
      },
      "execution_count": null,
      "outputs": [
        {
          "output_type": "execute_result",
          "data": {
            "text/plain": [
              "<tf.Tensor: shape=(2,), dtype=int32, numpy=array([10,  5], dtype=int32)>"
            ]
          },
          "metadata": {},
          "execution_count": 35
        }
      ]
    },
    {
      "cell_type": "code",
      "source": [
        "# Add in extra dimension to our rank 2 tensor\n",
        "rank_3_tensor = rank_2_tensor[..., tf.newaxis]\n",
        "rank_3_tensor"
      ],
      "metadata": {
        "colab": {
          "base_uri": "https://localhost:8080/"
        },
        "id": "Ro9Yo4jp8Clj",
        "outputId": "c125e443-ac51-4fe8-8721-d25d192cb59a"
      },
      "execution_count": null,
      "outputs": [
        {
          "output_type": "execute_result",
          "data": {
            "text/plain": [
              "<tf.Tensor: shape=(2, 2, 1), dtype=int32, numpy=\n",
              "array([[[ 7],\n",
              "        [10]],\n",
              "\n",
              "       [[ 3],\n",
              "        [ 5]]], dtype=int32)>"
            ]
          },
          "metadata": {},
          "execution_count": 36
        }
      ]
    },
    {
      "cell_type": "code",
      "source": [
        "# Alternative of tf.newaxis\n",
        "tf.expand_dims(rank_2_tensor, axis=-1) #'-1' means expand the final axis"
      ],
      "metadata": {
        "colab": {
          "base_uri": "https://localhost:8080/"
        },
        "id": "hnhl_B9-8fRx",
        "outputId": "778b1392-6281-4b05-8a48-c7c170c4f1af"
      },
      "execution_count": null,
      "outputs": [
        {
          "output_type": "execute_result",
          "data": {
            "text/plain": [
              "<tf.Tensor: shape=(2, 2, 1), dtype=int32, numpy=\n",
              "array([[[ 7],\n",
              "        [10]],\n",
              "\n",
              "       [[ 3],\n",
              "        [ 5]]], dtype=int32)>"
            ]
          },
          "metadata": {},
          "execution_count": 37
        }
      ]
    },
    {
      "cell_type": "code",
      "source": [
        "tf.expand_dims(rank_2_tensor, axis=0)"
      ],
      "metadata": {
        "colab": {
          "base_uri": "https://localhost:8080/"
        },
        "id": "Dm5YQUX89Kkr",
        "outputId": "cc075b37-2f71-4d07-b461-4d88306b3a2d"
      },
      "execution_count": null,
      "outputs": [
        {
          "output_type": "execute_result",
          "data": {
            "text/plain": [
              "<tf.Tensor: shape=(1, 2, 2), dtype=int32, numpy=\n",
              "array([[[ 7, 10],\n",
              "        [ 3,  5]]], dtype=int32)>"
            ]
          },
          "metadata": {},
          "execution_count": 38
        }
      ]
    },
    {
      "cell_type": "markdown",
      "source": [
        "###Manipulating tensors (tensor operations)\n",
        "\n",
        "**Basic operations**\n",
        "\n",
        "'+', '-', '*', '/'"
      ],
      "metadata": {
        "id": "DqrquUCs9jme"
      }
    },
    {
      "cell_type": "code",
      "source": [
        "# You can add values to a tensor using the addition operator\n",
        "tensor = tf.constant([[10, 7], [3, 4]])\n",
        "tensor + 10"
      ],
      "metadata": {
        "colab": {
          "base_uri": "https://localhost:8080/"
        },
        "id": "1QAG4GMa9V1b",
        "outputId": "6bd83c58-4757-43a3-dfb3-1a9221c5dead"
      },
      "execution_count": null,
      "outputs": [
        {
          "output_type": "execute_result",
          "data": {
            "text/plain": [
              "<tf.Tensor: shape=(2, 2), dtype=int32, numpy=\n",
              "array([[20, 17],\n",
              "       [13, 14]], dtype=int32)>"
            ]
          },
          "metadata": {},
          "execution_count": 39
        }
      ]
    },
    {
      "cell_type": "code",
      "source": [
        "# Orignal tensor is unchanged\n",
        "tensor"
      ],
      "metadata": {
        "colab": {
          "base_uri": "https://localhost:8080/"
        },
        "id": "wIk_sAvq9e6i",
        "outputId": "a2fea567-1e63-4873-e763-0d058d1b672a"
      },
      "execution_count": null,
      "outputs": [
        {
          "output_type": "execute_result",
          "data": {
            "text/plain": [
              "<tf.Tensor: shape=(2, 2), dtype=int32, numpy=\n",
              "array([[10,  7],\n",
              "       [ 3,  4]], dtype=int32)>"
            ]
          },
          "metadata": {},
          "execution_count": 40
        }
      ]
    },
    {
      "cell_type": "code",
      "source": [
        "# Multiplication\n",
        "tensor *10"
      ],
      "metadata": {
        "colab": {
          "base_uri": "https://localhost:8080/"
        },
        "id": "NVyJ0d_B-eXK",
        "outputId": "28450463-5643-49b9-d2d7-ad6c15d2d85b"
      },
      "execution_count": null,
      "outputs": [
        {
          "output_type": "execute_result",
          "data": {
            "text/plain": [
              "<tf.Tensor: shape=(2, 2), dtype=int32, numpy=\n",
              "array([[100,  70],\n",
              "       [ 30,  40]], dtype=int32)>"
            ]
          },
          "metadata": {},
          "execution_count": 41
        }
      ]
    },
    {
      "cell_type": "code",
      "source": [
        "# Subtraction\n",
        "tensor - 10"
      ],
      "metadata": {
        "colab": {
          "base_uri": "https://localhost:8080/"
        },
        "id": "bTADUSfK-jBa",
        "outputId": "2eeb04d9-3a63-453c-d590-36e3a5fea118"
      },
      "execution_count": null,
      "outputs": [
        {
          "output_type": "execute_result",
          "data": {
            "text/plain": [
              "<tf.Tensor: shape=(2, 2), dtype=int32, numpy=\n",
              "array([[ 0, -3],\n",
              "       [-7, -6]], dtype=int32)>"
            ]
          },
          "metadata": {},
          "execution_count": 42
        }
      ]
    },
    {
      "cell_type": "code",
      "source": [
        "# We can use the tensorflolw build-in function too\n",
        "tf.multiply(tensor, 10)"
      ],
      "metadata": {
        "colab": {
          "base_uri": "https://localhost:8080/"
        },
        "id": "TFzx_NSA-ma-",
        "outputId": "d1c5fb4d-a7b6-4ed4-bff2-5c6a5682ffe2"
      },
      "execution_count": null,
      "outputs": [
        {
          "output_type": "execute_result",
          "data": {
            "text/plain": [
              "<tf.Tensor: shape=(2, 2), dtype=int32, numpy=\n",
              "array([[100,  70],\n",
              "       [ 30,  40]], dtype=int32)>"
            ]
          },
          "metadata": {},
          "execution_count": 43
        }
      ]
    },
    {
      "cell_type": "markdown",
      "source": [
        "### Matrix multiplication\n",
        "\n",
        "In machine learning, Matrix multiplication is one of the most commom tensor operations.\n",
        "There are two rules our tensors (or the matrices) need to fulfill if we're going to matrix multiply them:\n",
        "\n",
        "1. The inner dimension musty match\n",
        "2. The resulting matrix has the shape of the outer matrix"
      ],
      "metadata": {
        "id": "8hJ20dB7_ni2"
      }
    },
    {
      "cell_type": "code",
      "source": [
        "# Matrix multiplication for tensorflow\n",
        "print(tensor)\n",
        "tf.matmul(tensor, tensor)"
      ],
      "metadata": {
        "colab": {
          "base_uri": "https://localhost:8080/"
        },
        "id": "xmPe3VEe-xXZ",
        "outputId": "d9123ef9-3e9b-4a0a-f021-515d19959650"
      },
      "execution_count": null,
      "outputs": [
        {
          "output_type": "stream",
          "name": "stdout",
          "text": [
            "tf.Tensor(\n",
            "[[10  7]\n",
            " [ 3  4]], shape=(2, 2), dtype=int32)\n"
          ]
        },
        {
          "output_type": "execute_result",
          "data": {
            "text/plain": [
              "<tf.Tensor: shape=(2, 2), dtype=int32, numpy=\n",
              "array([[121,  98],\n",
              "       [ 42,  37]], dtype=int32)>"
            ]
          },
          "metadata": {},
          "execution_count": 44
        }
      ]
    },
    {
      "cell_type": "code",
      "source": [
        "tensor * tensor"
      ],
      "metadata": {
        "colab": {
          "base_uri": "https://localhost:8080/"
        },
        "id": "9FLcsIdI_Pjt",
        "outputId": "0a3d2600-f08e-4ccf-fe00-872b4a853935"
      },
      "execution_count": null,
      "outputs": [
        {
          "output_type": "execute_result",
          "data": {
            "text/plain": [
              "<tf.Tensor: shape=(2, 2), dtype=int32, numpy=\n",
              "array([[100,  49],\n",
              "       [  9,  16]], dtype=int32)>"
            ]
          },
          "metadata": {},
          "execution_count": 45
        }
      ]
    },
    {
      "cell_type": "code",
      "source": [
        "# Practice\n",
        "a = tf.constant([[1, 2, 5],\n",
        "                [7, 2, 1],\n",
        "                [3, 3, 3]])\n",
        "b = tf.constant([[3, 5],\n",
        "                 [6, 7],\n",
        "                 [1, 8]])\n",
        "print(a , b)\n",
        "tf.matmul(a , b)"
      ],
      "metadata": {
        "colab": {
          "base_uri": "https://localhost:8080/"
        },
        "id": "UBcpo2elAza7",
        "outputId": "34750864-c486-4b33-8106-7e8536e6fa56"
      },
      "execution_count": null,
      "outputs": [
        {
          "output_type": "stream",
          "name": "stdout",
          "text": [
            "tf.Tensor(\n",
            "[[1 2 5]\n",
            " [7 2 1]\n",
            " [3 3 3]], shape=(3, 3), dtype=int32) tf.Tensor(\n",
            "[[3 5]\n",
            " [6 7]\n",
            " [1 8]], shape=(3, 2), dtype=int32)\n"
          ]
        },
        {
          "output_type": "execute_result",
          "data": {
            "text/plain": [
              "<tf.Tensor: shape=(3, 2), dtype=int32, numpy=\n",
              "array([[20, 59],\n",
              "       [34, 57],\n",
              "       [30, 60]], dtype=int32)>"
            ]
          },
          "metadata": {},
          "execution_count": 46
        }
      ]
    },
    {
      "cell_type": "code",
      "source": [
        "# Matrix multiplication with python operation \"@\"\n",
        "tensor @ tensor"
      ],
      "metadata": {
        "colab": {
          "base_uri": "https://localhost:8080/"
        },
        "id": "G49QeTJDBUJC",
        "outputId": "c3d8d6f9-95fd-4ccf-a348-7681d5917c00"
      },
      "execution_count": null,
      "outputs": [
        {
          "output_type": "execute_result",
          "data": {
            "text/plain": [
              "<tf.Tensor: shape=(2, 2), dtype=int32, numpy=\n",
              "array([[121,  98],\n",
              "       [ 42,  37]], dtype=int32)>"
            ]
          },
          "metadata": {},
          "execution_count": 47
        }
      ]
    },
    {
      "cell_type": "code",
      "source": [
        "# Creating a tensor (3, 2) tensor\n",
        "X = tf.constant([[1, 2],\n",
        "                 [3, 4],\n",
        "                 [5, 6]])\n",
        "# Creating other (3, 2) temsor\n",
        "Y = tf.constant([[7, 8],\n",
        "                 [9, 10],\n",
        "                 [11, 12]])\n",
        "X, Y"
      ],
      "metadata": {
        "colab": {
          "base_uri": "https://localhost:8080/"
        },
        "id": "6_Q4sCHNBkGr",
        "outputId": "98701603-6665-4cf4-bd41-3a76f786ecea"
      },
      "execution_count": null,
      "outputs": [
        {
          "output_type": "execute_result",
          "data": {
            "text/plain": [
              "(<tf.Tensor: shape=(3, 2), dtype=int32, numpy=\n",
              " array([[1, 2],\n",
              "        [3, 4],\n",
              "        [5, 6]], dtype=int32)>,\n",
              " <tf.Tensor: shape=(3, 2), dtype=int32, numpy=\n",
              " array([[ 7,  8],\n",
              "        [ 9, 10],\n",
              "        [11, 12]], dtype=int32)>)"
            ]
          },
          "metadata": {},
          "execution_count": 48
        }
      ]
    },
    {
      "cell_type": "code",
      "source": [
        "# Try to matrix multiply tensors of same shape\n",
        "#X @ Y\n"
      ],
      "metadata": {
        "id": "vk518Qy5CNGx"
      },
      "execution_count": null,
      "outputs": []
    },
    {
      "cell_type": "code",
      "source": [
        "Y"
      ],
      "metadata": {
        "colab": {
          "base_uri": "https://localhost:8080/"
        },
        "id": "6Y6MOUlJEfXg",
        "outputId": "a4dae49e-930a-438b-cc14-5baee9dab2f3"
      },
      "execution_count": null,
      "outputs": [
        {
          "output_type": "execute_result",
          "data": {
            "text/plain": [
              "<tf.Tensor: shape=(3, 2), dtype=int32, numpy=\n",
              "array([[ 7,  8],\n",
              "       [ 9, 10],\n",
              "       [11, 12]], dtype=int32)>"
            ]
          },
          "metadata": {},
          "execution_count": 50
        }
      ]
    },
    {
      "cell_type": "code",
      "source": [
        "# Let's chane the shape of the tensor\n",
        "tf.reshape(Y, shape=(2, 3))"
      ],
      "metadata": {
        "colab": {
          "base_uri": "https://localhost:8080/"
        },
        "id": "IOrSEdLPCVv3",
        "outputId": "5c6fb7b6-03b5-4a56-94df-d16a78a7e64b"
      },
      "execution_count": null,
      "outputs": [
        {
          "output_type": "execute_result",
          "data": {
            "text/plain": [
              "<tf.Tensor: shape=(2, 3), dtype=int32, numpy=\n",
              "array([[ 7,  8,  9],\n",
              "       [10, 11, 12]], dtype=int32)>"
            ]
          },
          "metadata": {},
          "execution_count": 51
        }
      ]
    },
    {
      "cell_type": "code",
      "source": [
        "# Try to multiply X by reshaped Y\n",
        "X @ tf.reshape(Y, shape=(2, 3))\n",
        "tf.matmul(X, tf.reshape(Y, shape=(2, 3)))"
      ],
      "metadata": {
        "colab": {
          "base_uri": "https://localhost:8080/"
        },
        "id": "aW8kuQHLEWU7",
        "outputId": "0a78e4c0-1c61-4802-c360-6a435e9e30e9"
      },
      "execution_count": null,
      "outputs": [
        {
          "output_type": "execute_result",
          "data": {
            "text/plain": [
              "<tf.Tensor: shape=(3, 3), dtype=int32, numpy=\n",
              "array([[ 27,  30,  33],\n",
              "       [ 61,  68,  75],\n",
              "       [ 95, 106, 117]], dtype=int32)>"
            ]
          },
          "metadata": {},
          "execution_count": 52
        }
      ]
    },
    {
      "cell_type": "code",
      "source": [
        "# Try to reshape X and then multiply\n",
        "tf.reshape(X, shape=(2, 3)) @ Y"
      ],
      "metadata": {
        "colab": {
          "base_uri": "https://localhost:8080/"
        },
        "id": "bDkbTcvyEu0m",
        "outputId": "76ce28f1-dfb0-4f35-f61e-df0137d29cbc"
      },
      "execution_count": null,
      "outputs": [
        {
          "output_type": "execute_result",
          "data": {
            "text/plain": [
              "<tf.Tensor: shape=(2, 2), dtype=int32, numpy=\n",
              "array([[ 58,  64],\n",
              "       [139, 154]], dtype=int32)>"
            ]
          },
          "metadata": {},
          "execution_count": 53
        }
      ]
    },
    {
      "cell_type": "code",
      "source": [
        "# Can you do same with transpose\n",
        "X, tf.transpose(X), tf.reshape(X, shape=(2, 3))"
      ],
      "metadata": {
        "colab": {
          "base_uri": "https://localhost:8080/"
        },
        "id": "GmOc5iIAFPic",
        "outputId": "2fa7ed55-eef6-4d9e-d444-f2f86ddcd9d0"
      },
      "execution_count": null,
      "outputs": [
        {
          "output_type": "execute_result",
          "data": {
            "text/plain": [
              "(<tf.Tensor: shape=(3, 2), dtype=int32, numpy=\n",
              " array([[1, 2],\n",
              "        [3, 4],\n",
              "        [5, 6]], dtype=int32)>,\n",
              " <tf.Tensor: shape=(2, 3), dtype=int32, numpy=\n",
              " array([[1, 3, 5],\n",
              "        [2, 4, 6]], dtype=int32)>,\n",
              " <tf.Tensor: shape=(2, 3), dtype=int32, numpy=\n",
              " array([[1, 2, 3],\n",
              "        [4, 5, 6]], dtype=int32)>)"
            ]
          },
          "metadata": {},
          "execution_count": 54
        }
      ]
    },
    {
      "cell_type": "code",
      "source": [
        "# Try matrix multiplication with the transpose rather than reshape\n",
        "tf.matmul(tf.transpose(X), Y)"
      ],
      "metadata": {
        "colab": {
          "base_uri": "https://localhost:8080/"
        },
        "id": "MRlyi2ozFz1b",
        "outputId": "c845eec4-8283-4763-978f-85a873dbd381"
      },
      "execution_count": null,
      "outputs": [
        {
          "output_type": "execute_result",
          "data": {
            "text/plain": [
              "<tf.Tensor: shape=(2, 2), dtype=int32, numpy=\n",
              "array([[ 89,  98],\n",
              "       [116, 128]], dtype=int32)>"
            ]
          },
          "metadata": {},
          "execution_count": 55
        }
      ]
    },
    {
      "cell_type": "markdown",
      "source": [
        "**The dot Product**\n",
        "\n",
        "Matrix multiplication is also refered to as the dot product.\n",
        "\n",
        "You can perform matrix multiplication using:\n",
        "\n",
        "* `tf.matmul()`\n",
        "* `tf.tensordot()`\n",
        "* `@`"
      ],
      "metadata": {
        "id": "pNb6Q0ATZ3db"
      }
    },
    {
      "cell_type": "code",
      "source": [
        "X, Y"
      ],
      "metadata": {
        "colab": {
          "base_uri": "https://localhost:8080/"
        },
        "id": "Wc98No_DazSe",
        "outputId": "d2468c2d-dcbd-4f26-f8cd-3aecfbc3ccd9"
      },
      "execution_count": null,
      "outputs": [
        {
          "output_type": "execute_result",
          "data": {
            "text/plain": [
              "(<tf.Tensor: shape=(3, 2), dtype=int32, numpy=\n",
              " array([[1, 2],\n",
              "        [3, 4],\n",
              "        [5, 6]], dtype=int32)>,\n",
              " <tf.Tensor: shape=(3, 2), dtype=int32, numpy=\n",
              " array([[ 7,  8],\n",
              "        [ 9, 10],\n",
              "        [11, 12]], dtype=int32)>)"
            ]
          },
          "metadata": {},
          "execution_count": 56
        }
      ]
    },
    {
      "cell_type": "code",
      "source": [
        "# Performing the dot product on X and Y (required X and Y to be transposed)\n",
        "tf.tensordot(tf.transpose(X), Y, axes=1)"
      ],
      "metadata": {
        "id": "2eRTBUHwGcdS",
        "colab": {
          "base_uri": "https://localhost:8080/"
        },
        "outputId": "d9fc7611-de9b-4e87-80fa-0c1ba46f0a59"
      },
      "execution_count": null,
      "outputs": [
        {
          "output_type": "execute_result",
          "data": {
            "text/plain": [
              "<tf.Tensor: shape=(2, 2), dtype=int32, numpy=\n",
              "array([[ 89,  98],\n",
              "       [116, 128]], dtype=int32)>"
            ]
          },
          "metadata": {},
          "execution_count": 57
        }
      ]
    },
    {
      "cell_type": "code",
      "source": [
        "#Peprform matrix multiplation between X and Y (transposed)\n",
        "tf.tensordot(X, tf.transpose(Y), axes=1)"
      ],
      "metadata": {
        "colab": {
          "base_uri": "https://localhost:8080/"
        },
        "id": "IKsF5vwubDD3",
        "outputId": "0d4f20f7-1ba7-4db1-cfd2-be6eb0c52f72"
      },
      "execution_count": null,
      "outputs": [
        {
          "output_type": "execute_result",
          "data": {
            "text/plain": [
              "<tf.Tensor: shape=(3, 3), dtype=int32, numpy=\n",
              "array([[ 23,  29,  35],\n",
              "       [ 53,  67,  81],\n",
              "       [ 83, 105, 127]], dtype=int32)>"
            ]
          },
          "metadata": {},
          "execution_count": 58
        }
      ]
    },
    {
      "cell_type": "code",
      "source": [
        "# Perform matrix multiplication between X and Y (reshape)\n",
        "tf.matmul(X, tf.transpose(Y))"
      ],
      "metadata": {
        "colab": {
          "base_uri": "https://localhost:8080/"
        },
        "id": "kYdGL6E9bdZ7",
        "outputId": "7401f8ac-03e1-4f9a-cda0-6f23b568fa81"
      },
      "execution_count": null,
      "outputs": [
        {
          "output_type": "execute_result",
          "data": {
            "text/plain": [
              "<tf.Tensor: shape=(3, 3), dtype=int32, numpy=\n",
              "array([[ 23,  29,  35],\n",
              "       [ 53,  67,  81],\n",
              "       [ 83, 105, 127]], dtype=int32)>"
            ]
          },
          "metadata": {},
          "execution_count": 59
        }
      ]
    },
    {
      "cell_type": "code",
      "source": [
        "tf.matmul(X, tf.reshape(Y, shape=(2,3)))"
      ],
      "metadata": {
        "colab": {
          "base_uri": "https://localhost:8080/"
        },
        "id": "BezcG8IQf4Xd",
        "outputId": "87facaad-edd1-444e-e1ac-f7f991f28648"
      },
      "execution_count": null,
      "outputs": [
        {
          "output_type": "execute_result",
          "data": {
            "text/plain": [
              "<tf.Tensor: shape=(3, 3), dtype=int32, numpy=\n",
              "array([[ 27,  30,  33],\n",
              "       [ 61,  68,  75],\n",
              "       [ 95, 106, 117]], dtype=int32)>"
            ]
          },
          "metadata": {},
          "execution_count": 60
        }
      ]
    },
    {
      "cell_type": "code",
      "source": [
        "tf.matmul(tf.transpose(X), )"
      ],
      "metadata": {
        "colab": {
          "base_uri": "https://localhost:8080/",
          "height": 321
        },
        "id": "Z_NtrCZefe5K",
        "outputId": "74394d94-5a4d-4ecf-886a-f1628eb06d69"
      },
      "execution_count": null,
      "outputs": [
        {
          "output_type": "error",
          "ename": "TypeError",
          "evalue": "Missing required positional argument",
          "traceback": [
            "\u001b[0;31m---------------------------------------------------------------------------\u001b[0m",
            "\u001b[0;31mTypeError\u001b[0m                                 Traceback (most recent call last)",
            "\u001b[0;32m<ipython-input-61-a87c7001e8fd>\u001b[0m in \u001b[0;36m<cell line: 0>\u001b[0;34m()\u001b[0m\n\u001b[0;32m----> 1\u001b[0;31m \u001b[0mtf\u001b[0m\u001b[0;34m.\u001b[0m\u001b[0mmatmul\u001b[0m\u001b[0;34m(\u001b[0m\u001b[0mtf\u001b[0m\u001b[0;34m.\u001b[0m\u001b[0mtranspose\u001b[0m\u001b[0;34m(\u001b[0m\u001b[0mX\u001b[0m\u001b[0;34m)\u001b[0m\u001b[0;34m,\u001b[0m \u001b[0;34m)\u001b[0m\u001b[0;34m\u001b[0m\u001b[0;34m\u001b[0m\u001b[0m\n\u001b[0m",
            "\u001b[0;32m/usr/local/lib/python3.11/dist-packages/tensorflow/python/ops/weak_tensor_ops.py\u001b[0m in \u001b[0;36mwrapper\u001b[0;34m(*args, **kwargs)\u001b[0m\n\u001b[1;32m    140\u001b[0m   \u001b[0;32mdef\u001b[0m \u001b[0mwrapper\u001b[0m\u001b[0;34m(\u001b[0m\u001b[0;34m*\u001b[0m\u001b[0margs\u001b[0m\u001b[0;34m,\u001b[0m \u001b[0;34m**\u001b[0m\u001b[0mkwargs\u001b[0m\u001b[0;34m)\u001b[0m\u001b[0;34m:\u001b[0m\u001b[0;34m\u001b[0m\u001b[0;34m\u001b[0m\u001b[0m\n\u001b[1;32m    141\u001b[0m     \u001b[0;32mif\u001b[0m \u001b[0;32mnot\u001b[0m \u001b[0mops\u001b[0m\u001b[0;34m.\u001b[0m\u001b[0mis_auto_dtype_conversion_enabled\u001b[0m\u001b[0;34m(\u001b[0m\u001b[0;34m)\u001b[0m\u001b[0;34m:\u001b[0m\u001b[0;34m\u001b[0m\u001b[0;34m\u001b[0m\u001b[0m\n\u001b[0;32m--> 142\u001b[0;31m       \u001b[0;32mreturn\u001b[0m \u001b[0mop\u001b[0m\u001b[0;34m(\u001b[0m\u001b[0;34m*\u001b[0m\u001b[0margs\u001b[0m\u001b[0;34m,\u001b[0m \u001b[0;34m**\u001b[0m\u001b[0mkwargs\u001b[0m\u001b[0;34m)\u001b[0m\u001b[0;34m\u001b[0m\u001b[0;34m\u001b[0m\u001b[0m\n\u001b[0m\u001b[1;32m    143\u001b[0m     \u001b[0mbound_arguments\u001b[0m \u001b[0;34m=\u001b[0m \u001b[0msignature\u001b[0m\u001b[0;34m.\u001b[0m\u001b[0mbind\u001b[0m\u001b[0;34m(\u001b[0m\u001b[0;34m*\u001b[0m\u001b[0margs\u001b[0m\u001b[0;34m,\u001b[0m \u001b[0;34m**\u001b[0m\u001b[0mkwargs\u001b[0m\u001b[0;34m)\u001b[0m\u001b[0;34m\u001b[0m\u001b[0;34m\u001b[0m\u001b[0m\n\u001b[1;32m    144\u001b[0m     \u001b[0mbound_arguments\u001b[0m\u001b[0;34m.\u001b[0m\u001b[0mapply_defaults\u001b[0m\u001b[0;34m(\u001b[0m\u001b[0;34m)\u001b[0m\u001b[0;34m\u001b[0m\u001b[0;34m\u001b[0m\u001b[0m\n",
            "\u001b[0;32m/usr/local/lib/python3.11/dist-packages/tensorflow/python/util/traceback_utils.py\u001b[0m in \u001b[0;36merror_handler\u001b[0;34m(*args, **kwargs)\u001b[0m\n\u001b[1;32m    151\u001b[0m     \u001b[0;32mexcept\u001b[0m \u001b[0mException\u001b[0m \u001b[0;32mas\u001b[0m \u001b[0me\u001b[0m\u001b[0;34m:\u001b[0m\u001b[0;34m\u001b[0m\u001b[0;34m\u001b[0m\u001b[0m\n\u001b[1;32m    152\u001b[0m       \u001b[0mfiltered_tb\u001b[0m \u001b[0;34m=\u001b[0m \u001b[0m_process_traceback_frames\u001b[0m\u001b[0;34m(\u001b[0m\u001b[0me\u001b[0m\u001b[0;34m.\u001b[0m\u001b[0m__traceback__\u001b[0m\u001b[0;34m)\u001b[0m\u001b[0;34m\u001b[0m\u001b[0;34m\u001b[0m\u001b[0m\n\u001b[0;32m--> 153\u001b[0;31m       \u001b[0;32mraise\u001b[0m \u001b[0me\u001b[0m\u001b[0;34m.\u001b[0m\u001b[0mwith_traceback\u001b[0m\u001b[0;34m(\u001b[0m\u001b[0mfiltered_tb\u001b[0m\u001b[0;34m)\u001b[0m \u001b[0;32mfrom\u001b[0m \u001b[0;32mNone\u001b[0m\u001b[0;34m\u001b[0m\u001b[0;34m\u001b[0m\u001b[0m\n\u001b[0m\u001b[1;32m    154\u001b[0m     \u001b[0;32mfinally\u001b[0m\u001b[0;34m:\u001b[0m\u001b[0;34m\u001b[0m\u001b[0;34m\u001b[0m\u001b[0m\n\u001b[1;32m    155\u001b[0m       \u001b[0;32mdel\u001b[0m \u001b[0mfiltered_tb\u001b[0m\u001b[0;34m\u001b[0m\u001b[0;34m\u001b[0m\u001b[0m\n",
            "\u001b[0;32m/usr/local/lib/python3.11/dist-packages/tensorflow/python/util/dispatch.py\u001b[0m in \u001b[0;36mop_dispatch_handler\u001b[0;34m(*args, **kwargs)\u001b[0m\n\u001b[1;32m   1252\u001b[0m         \u001b[0;32mif\u001b[0m \u001b[0miterable_params\u001b[0m \u001b[0;32mis\u001b[0m \u001b[0;32mnot\u001b[0m \u001b[0;32mNone\u001b[0m\u001b[0;34m:\u001b[0m\u001b[0;34m\u001b[0m\u001b[0;34m\u001b[0m\u001b[0m\n\u001b[1;32m   1253\u001b[0m           \u001b[0margs\u001b[0m\u001b[0;34m,\u001b[0m \u001b[0mkwargs\u001b[0m \u001b[0;34m=\u001b[0m \u001b[0mreplace_iterable_params\u001b[0m\u001b[0;34m(\u001b[0m\u001b[0margs\u001b[0m\u001b[0;34m,\u001b[0m \u001b[0mkwargs\u001b[0m\u001b[0;34m,\u001b[0m \u001b[0miterable_params\u001b[0m\u001b[0;34m)\u001b[0m\u001b[0;34m\u001b[0m\u001b[0;34m\u001b[0m\u001b[0m\n\u001b[0;32m-> 1254\u001b[0;31m         \u001b[0mresult\u001b[0m \u001b[0;34m=\u001b[0m \u001b[0mapi_dispatcher\u001b[0m\u001b[0;34m.\u001b[0m\u001b[0mDispatch\u001b[0m\u001b[0;34m(\u001b[0m\u001b[0margs\u001b[0m\u001b[0;34m,\u001b[0m \u001b[0mkwargs\u001b[0m\u001b[0;34m)\u001b[0m\u001b[0;34m\u001b[0m\u001b[0;34m\u001b[0m\u001b[0m\n\u001b[0m\u001b[1;32m   1255\u001b[0m         \u001b[0;32mif\u001b[0m \u001b[0mresult\u001b[0m \u001b[0;32mis\u001b[0m \u001b[0;32mnot\u001b[0m \u001b[0mNotImplemented\u001b[0m\u001b[0;34m:\u001b[0m\u001b[0;34m\u001b[0m\u001b[0;34m\u001b[0m\u001b[0m\n\u001b[1;32m   1256\u001b[0m           \u001b[0;32mreturn\u001b[0m \u001b[0mresult\u001b[0m\u001b[0;34m\u001b[0m\u001b[0;34m\u001b[0m\u001b[0m\n",
            "\u001b[0;31mTypeError\u001b[0m: Missing required positional argument"
          ]
        }
      ]
    },
    {
      "cell_type": "code",
      "source": [
        "# Check the values of Y, reshape Y and transpose of Y\n",
        "print(\"Normal Y\")\n",
        "print(Y,\"\\n\")\n",
        "\n",
        "print(\"Y reshaped to (2, 3):\")\n",
        "print(tf.reshape(Y, shape=(2, 3)),\"\\n\")\n",
        "\n",
        "print(\"Y transposed:\")\n",
        "print(tf.transpose(Y))\n"
      ],
      "metadata": {
        "colab": {
          "base_uri": "https://localhost:8080/"
        },
        "id": "gfAStbvTfnnl",
        "outputId": "3eda3534-cc57-4e9b-8625-75284ffc4c05"
      },
      "execution_count": null,
      "outputs": [
        {
          "output_type": "stream",
          "name": "stdout",
          "text": [
            "Normal Y\n",
            "tf.Tensor(\n",
            "[[ 7  8]\n",
            " [ 9 10]\n",
            " [11 12]], shape=(3, 2), dtype=int32) \n",
            "\n",
            "Y reshaped to (2, 3):\n",
            "tf.Tensor(\n",
            "[[ 7  8  9]\n",
            " [10 11 12]], shape=(2, 3), dtype=int32) \n",
            "\n",
            "Y transposed:\n",
            "tf.Tensor(\n",
            "[[ 7  9 11]\n",
            " [ 8 10 12]], shape=(2, 3), dtype=int32)\n"
          ]
        }
      ]
    },
    {
      "cell_type": "markdown",
      "source": [
        "Generally, when performing matrix multiplication on two tensors an done of the axis doesn't line up, you will transpose(rather than reshape) one of the tensors to get satisfy the matrix multiplication rules."
      ],
      "metadata": {
        "id": "6PMZx1HohMsB"
      }
    },
    {
      "cell_type": "markdown",
      "source": [
        "##Change the datatype of the tensor"
      ],
      "metadata": {
        "id": "pp9meU8u1J85"
      }
    },
    {
      "cell_type": "code",
      "source": [
        "#Create a new tensor with default datatype (float32)\n",
        "B = tf.constant([1.7, 7.4])\n",
        "B.dtype"
      ],
      "metadata": {
        "id": "ufBhqkWAgwhm",
        "colab": {
          "base_uri": "https://localhost:8080/"
        },
        "outputId": "44a8c50a-2be9-47eb-acbe-134d992857bc"
      },
      "execution_count": null,
      "outputs": [
        {
          "output_type": "execute_result",
          "data": {
            "text/plain": [
              "tf.float32"
            ]
          },
          "metadata": {},
          "execution_count": 63
        }
      ]
    },
    {
      "cell_type": "code",
      "source": [
        "c = tf.constant([17, 10])\n",
        "c.dtype"
      ],
      "metadata": {
        "colab": {
          "base_uri": "https://localhost:8080/"
        },
        "id": "jNgQnC151BGm",
        "outputId": "2d260b73-eee4-4d4e-d89e-ac91b8e960d5"
      },
      "execution_count": null,
      "outputs": [
        {
          "output_type": "execute_result",
          "data": {
            "text/plain": [
              "tf.int32"
            ]
          },
          "metadata": {},
          "execution_count": 64
        }
      ]
    },
    {
      "cell_type": "code",
      "source": [
        "# Change from float32 to float16 (reduced precision)\n",
        "D = tf.cast(B, dtype=tf.float16)\n",
        "D, D.dtype"
      ],
      "metadata": {
        "colab": {
          "base_uri": "https://localhost:8080/"
        },
        "id": "pqfreDMI1xvh",
        "outputId": "8b23c163-17c6-4adb-9373-d1a9b2f65c20"
      },
      "execution_count": null,
      "outputs": [
        {
          "output_type": "execute_result",
          "data": {
            "text/plain": [
              "(<tf.Tensor: shape=(2,), dtype=float16, numpy=array([1.7, 7.4], dtype=float16)>,\n",
              " tf.float16)"
            ]
          },
          "metadata": {},
          "execution_count": 65
        }
      ]
    },
    {
      "cell_type": "code",
      "source": [
        "# Change from int32 to float32\n",
        "E = tf.cast(c, dtype =tf.float32)\n",
        "E"
      ],
      "metadata": {
        "colab": {
          "base_uri": "https://localhost:8080/"
        },
        "id": "GU0th_9D2lCe",
        "outputId": "0a80305c-f565-4350-ecb3-a0cbd33b37ab"
      },
      "execution_count": null,
      "outputs": [
        {
          "output_type": "execute_result",
          "data": {
            "text/plain": [
              "<tf.Tensor: shape=(2,), dtype=float32, numpy=array([17., 10.], dtype=float32)>"
            ]
          },
          "metadata": {},
          "execution_count": 66
        }
      ]
    },
    {
      "cell_type": "code",
      "source": [
        "E_float16 = tf.cast(E, dtype=tf.float16)\n",
        "E_float16"
      ],
      "metadata": {
        "colab": {
          "base_uri": "https://localhost:8080/"
        },
        "id": "B7Xyohd02_Ny",
        "outputId": "576b79d9-e9f1-4009-ccea-831a5258444e"
      },
      "execution_count": null,
      "outputs": [
        {
          "output_type": "execute_result",
          "data": {
            "text/plain": [
              "<tf.Tensor: shape=(2,), dtype=float16, numpy=array([17., 10.], dtype=float16)>"
            ]
          },
          "metadata": {},
          "execution_count": 67
        }
      ]
    },
    {
      "cell_type": "markdown",
      "source": [
        "## Agregating tensors\n",
        "\n",
        "Aggregating tensors = condensing them from multiple values down to a smaller amount of values."
      ],
      "metadata": {
        "id": "YmXTLEDC3O7-"
      }
    },
    {
      "cell_type": "code",
      "source": [
        " # Getting the absolute value\n",
        " D = tf.constant([-7, -10])\n",
        " D"
      ],
      "metadata": {
        "colab": {
          "base_uri": "https://localhost:8080/"
        },
        "id": "bh03YyZF3JHR",
        "outputId": "2d5b2cc7-608a-41b9-9bc5-07564d28b853"
      },
      "execution_count": null,
      "outputs": [
        {
          "output_type": "execute_result",
          "data": {
            "text/plain": [
              "<tf.Tensor: shape=(2,), dtype=int32, numpy=array([ -7, -10], dtype=int32)>"
            ]
          },
          "metadata": {},
          "execution_count": 68
        }
      ]
    },
    {
      "cell_type": "code",
      "source": [
        "tf.abs(D)"
      ],
      "metadata": {
        "colab": {
          "base_uri": "https://localhost:8080/"
        },
        "id": "hlWVIwlN4PJ-",
        "outputId": "666758bc-0a1c-476d-89f3-dc0073ff9075"
      },
      "execution_count": null,
      "outputs": [
        {
          "output_type": "execute_result",
          "data": {
            "text/plain": [
              "<tf.Tensor: shape=(2,), dtype=int32, numpy=array([ 7, 10], dtype=int32)>"
            ]
          },
          "metadata": {},
          "execution_count": 69
        }
      ]
    },
    {
      "cell_type": "markdown",
      "source": [
        "Let's go through the following form of aggregation:\n",
        "\n",
        "* Get the minimum\n",
        "* Get the maximum\n",
        "* Get the mean of a tensor\n",
        "* Get the sum of a tensor"
      ],
      "metadata": {
        "id": "--z3OJVA4Xiq"
      }
    },
    {
      "cell_type": "code",
      "source": [
        "#Creating a random tensor with values between 0 and 100 of size 50\n",
        "E = tf.constant(np.random.randint(0, 100, size=50))\n",
        "E"
      ],
      "metadata": {
        "colab": {
          "base_uri": "https://localhost:8080/"
        },
        "id": "y5Bu6kfn4S7n",
        "outputId": "1922565d-e8fa-4308-e9c7-f079613e900c"
      },
      "execution_count": null,
      "outputs": [
        {
          "output_type": "execute_result",
          "data": {
            "text/plain": [
              "<tf.Tensor: shape=(50,), dtype=int64, numpy=\n",
              "array([83, 93, 78, 57,  0, 86, 20, 39,  6,  2, 32, 16, 41,  6, 14, 49, 92,\n",
              "       12, 78, 19, 34, 87,  9, 88,  2, 68, 72, 58, 17, 67, 94, 87, 76, 27,\n",
              "       12, 64, 43, 55, 50, 95, 59, 83, 17, 20,  7, 76, 62, 43, 61, 45])>"
            ]
          },
          "metadata": {},
          "execution_count": 70
        }
      ]
    },
    {
      "cell_type": "code",
      "source": [
        "tf.size(E), E.shape, E.ndim"
      ],
      "metadata": {
        "colab": {
          "base_uri": "https://localhost:8080/"
        },
        "id": "ynw0oF5K56sZ",
        "outputId": "49c23a04-02a7-4071-e7b0-e03e0442f7a7"
      },
      "execution_count": null,
      "outputs": [
        {
          "output_type": "execute_result",
          "data": {
            "text/plain": [
              "(<tf.Tensor: shape=(), dtype=int32, numpy=50>, TensorShape([50]), 1)"
            ]
          },
          "metadata": {},
          "execution_count": 71
        }
      ]
    },
    {
      "cell_type": "code",
      "source": [
        "#Find the minimum\n",
        "tf.reduce_min(E)"
      ],
      "metadata": {
        "colab": {
          "base_uri": "https://localhost:8080/"
        },
        "id": "zje24Glu6But",
        "outputId": "b7674424-740f-4547-a213-3bde8b3380e4"
      },
      "execution_count": null,
      "outputs": [
        {
          "output_type": "execute_result",
          "data": {
            "text/plain": [
              "<tf.Tensor: shape=(), dtype=int64, numpy=0>"
            ]
          },
          "metadata": {},
          "execution_count": 72
        }
      ]
    },
    {
      "cell_type": "code",
      "source": [
        "#Find the maximum\n",
        "tf.reduce_max(E)"
      ],
      "metadata": {
        "colab": {
          "base_uri": "https://localhost:8080/"
        },
        "id": "ad9m6GgV6LMC",
        "outputId": "5a7f0212-735b-4653-b967-4a04e1cf6ebb"
      },
      "execution_count": null,
      "outputs": [
        {
          "output_type": "execute_result",
          "data": {
            "text/plain": [
              "<tf.Tensor: shape=(), dtype=int64, numpy=95>"
            ]
          },
          "metadata": {},
          "execution_count": 73
        }
      ]
    },
    {
      "cell_type": "code",
      "source": [
        "# Find the mean\n",
        "tf.reduce_mean(E)"
      ],
      "metadata": {
        "colab": {
          "base_uri": "https://localhost:8080/"
        },
        "id": "qu6mAKHE6NI2",
        "outputId": "9bb400f8-da56-4162-df28-e5eecad27e3a"
      },
      "execution_count": null,
      "outputs": [
        {
          "output_type": "execute_result",
          "data": {
            "text/plain": [
              "<tf.Tensor: shape=(), dtype=int64, numpy=48>"
            ]
          },
          "metadata": {},
          "execution_count": 74
        }
      ]
    },
    {
      "cell_type": "code",
      "source": [
        "# Find the sum\n",
        "tf.reduce_sum(E)"
      ],
      "metadata": {
        "colab": {
          "base_uri": "https://localhost:8080/"
        },
        "id": "_gQS2QHX6XmQ",
        "outputId": "15fb97f4-af93-438c-b378-609cd14ec14c"
      },
      "execution_count": null,
      "outputs": [
        {
          "output_type": "execute_result",
          "data": {
            "text/plain": [
              "<tf.Tensor: shape=(), dtype=int64, numpy=2401>"
            ]
          },
          "metadata": {},
          "execution_count": 75
        }
      ]
    },
    {
      "cell_type": "markdown",
      "source": [
        "**Exercise:** find the variance and standard deviation of 'E'."
      ],
      "metadata": {
        "id": "RXyOYI0A6nWJ"
      }
    },
    {
      "cell_type": "code",
      "source": [
        "# Find the variance of 'E'\n",
        "tf.reduce_variance(E)   # Won't work"
      ],
      "metadata": {
        "colab": {
          "base_uri": "https://localhost:8080/",
          "height": 158
        },
        "id": "9Qx78wtg6eWe",
        "outputId": "7d1957d0-a10a-4ae2-8623-9a53d6bf9836"
      },
      "execution_count": null,
      "outputs": [
        {
          "output_type": "error",
          "ename": "AttributeError",
          "evalue": "module 'tensorflow' has no attribute 'reduce_variance'",
          "traceback": [
            "\u001b[0;31m---------------------------------------------------------------------------\u001b[0m",
            "\u001b[0;31mAttributeError\u001b[0m                            Traceback (most recent call last)",
            "\u001b[0;32m<ipython-input-76-9870cfd1957d>\u001b[0m in \u001b[0;36m<cell line: 0>\u001b[0;34m()\u001b[0m\n\u001b[1;32m      1\u001b[0m \u001b[0;31m# Find the variance of 'E'\u001b[0m\u001b[0;34m\u001b[0m\u001b[0;34m\u001b[0m\u001b[0m\n\u001b[0;32m----> 2\u001b[0;31m \u001b[0mtf\u001b[0m\u001b[0;34m.\u001b[0m\u001b[0mreduce_variance\u001b[0m\u001b[0;34m(\u001b[0m\u001b[0mE\u001b[0m\u001b[0;34m)\u001b[0m   \u001b[0;31m# Won't work\u001b[0m\u001b[0;34m\u001b[0m\u001b[0;34m\u001b[0m\u001b[0m\n\u001b[0m",
            "\u001b[0;31mAttributeError\u001b[0m: module 'tensorflow' has no attribute 'reduce_variance'"
          ]
        }
      ]
    },
    {
      "cell_type": "code",
      "source": [
        "tf.math.reduce_variance(tf.cast(E, dtype = tf.float32))"
      ],
      "metadata": {
        "colab": {
          "base_uri": "https://localhost:8080/"
        },
        "id": "MpqdB06K-avz",
        "outputId": "3baf6d94-51a0-40a1-82e1-c0d791105c1d"
      },
      "execution_count": null,
      "outputs": [
        {
          "output_type": "execute_result",
          "data": {
            "text/plain": [
              "<tf.Tensor: shape=(), dtype=float32, numpy=919.099609375>"
            ]
          },
          "metadata": {},
          "execution_count": 77
        }
      ]
    },
    {
      "cell_type": "code",
      "source": [
        "# To find the variance of the tensor we need access to tensorflow_probability\n",
        "import tensorflow_probability as tfp\n",
        "tfp.stats.variance(E)"
      ],
      "metadata": {
        "colab": {
          "base_uri": "https://localhost:8080/"
        },
        "id": "b9d3vt9w62kb",
        "outputId": "32575de0-07f1-4696-9148-058408d65dda"
      },
      "execution_count": null,
      "outputs": [
        {
          "output_type": "execute_result",
          "data": {
            "text/plain": [
              "<tf.Tensor: shape=(), dtype=int64, numpy=919>"
            ]
          },
          "metadata": {},
          "execution_count": 78
        }
      ]
    },
    {
      "cell_type": "code",
      "source": [
        "#Find the standard deviation\n",
        "tf.math.reduce_std(tf.cast(E, dtype=tf.float32))"
      ],
      "metadata": {
        "colab": {
          "base_uri": "https://localhost:8080/"
        },
        "id": "urr-fHF17-c2",
        "outputId": "7d457d3c-fd05-465a-8298-8a8ad4283e5d"
      },
      "execution_count": null,
      "outputs": [
        {
          "output_type": "execute_result",
          "data": {
            "text/plain": [
              "<tf.Tensor: shape=(), dtype=float32, numpy=30.3166561126709>"
            ]
          },
          "metadata": {},
          "execution_count": 79
        }
      ]
    },
    {
      "cell_type": "markdown",
      "source": [
        "### Find the positional maximum and minimum"
      ],
      "metadata": {
        "id": "Qf5HW1VA-N1h"
      }
    },
    {
      "cell_type": "code",
      "source": [
        "# Create a new tensor for finding positional minimal and maximum\n",
        "tf.random.set_seed(42)\n",
        "F = tf.random.uniform(shape=[50])\n",
        "F"
      ],
      "metadata": {
        "id": "k97wEm-t8CT9",
        "colab": {
          "base_uri": "https://localhost:8080/"
        },
        "outputId": "c2a3213f-69e8-433e-a0cf-448f6f6efa99"
      },
      "execution_count": null,
      "outputs": [
        {
          "output_type": "execute_result",
          "data": {
            "text/plain": [
              "<tf.Tensor: shape=(50,), dtype=float32, numpy=\n",
              "array([0.6645621 , 0.44100678, 0.3528825 , 0.46448255, 0.03366041,\n",
              "       0.68467236, 0.74011743, 0.8724445 , 0.22632635, 0.22319686,\n",
              "       0.3103881 , 0.7223358 , 0.13318717, 0.5480639 , 0.5746088 ,\n",
              "       0.8996835 , 0.00946367, 0.5212307 , 0.6345445 , 0.1993283 ,\n",
              "       0.72942245, 0.54583454, 0.10756552, 0.6767061 , 0.6602763 ,\n",
              "       0.33695042, 0.60141766, 0.21062577, 0.8527372 , 0.44062173,\n",
              "       0.9485276 , 0.23752594, 0.81179297, 0.5263394 , 0.494308  ,\n",
              "       0.21612847, 0.8457197 , 0.8718841 , 0.3083862 , 0.6868038 ,\n",
              "       0.23764038, 0.7817228 , 0.9671384 , 0.06870162, 0.79873943,\n",
              "       0.66028714, 0.5871513 , 0.16461694, 0.7381023 , 0.32054043],\n",
              "      dtype=float32)>"
            ]
          },
          "metadata": {},
          "execution_count": 81
        }
      ]
    },
    {
      "cell_type": "code",
      "source": [
        "# find the positional maximum\n",
        "tf.argmax(F)"
      ],
      "metadata": {
        "colab": {
          "base_uri": "https://localhost:8080/"
        },
        "id": "gs7OU1FWMBFp",
        "outputId": "e99317e5-b05a-41f6-f08b-72bf5b0fa328"
      },
      "execution_count": null,
      "outputs": [
        {
          "output_type": "execute_result",
          "data": {
            "text/plain": [
              "<tf.Tensor: shape=(), dtype=int64, numpy=42>"
            ]
          },
          "metadata": {},
          "execution_count": 83
        }
      ]
    },
    {
      "cell_type": "code",
      "source": [
        "# Index on our largest value position\n",
        "F[tf.argmax(F)]"
      ],
      "metadata": {
        "colab": {
          "base_uri": "https://localhost:8080/"
        },
        "id": "3OKKiwrGMlUn",
        "outputId": "222b5407-7050-45d5-a445-e2a8172a22bb"
      },
      "execution_count": null,
      "outputs": [
        {
          "output_type": "execute_result",
          "data": {
            "text/plain": [
              "<tf.Tensor: shape=(), dtype=float32, numpy=0.967138409614563>"
            ]
          },
          "metadata": {},
          "execution_count": 85
        }
      ]
    },
    {
      "cell_type": "code",
      "source": [
        "# Find the maximun value of F\n",
        "tf.reduce_max(F)"
      ],
      "metadata": {
        "colab": {
          "base_uri": "https://localhost:8080/"
        },
        "id": "lCJ4aZFxMz4k",
        "outputId": "e0a11b96-314d-4cac-89c0-fd0454f32146"
      },
      "execution_count": null,
      "outputs": [
        {
          "output_type": "execute_result",
          "data": {
            "text/plain": [
              "<tf.Tensor: shape=(), dtype=float32, numpy=0.967138409614563>"
            ]
          },
          "metadata": {},
          "execution_count": 86
        }
      ]
    },
    {
      "cell_type": "code",
      "source": [
        "# Check for equality\n",
        "F[tf.argmax(F)] == tf.reduce_max(F)"
      ],
      "metadata": {
        "colab": {
          "base_uri": "https://localhost:8080/"
        },
        "id": "12ZNY_BaNIAc",
        "outputId": "4620ffb8-e867-4a77-8aed-7fe3ca84cd3b"
      },
      "execution_count": null,
      "outputs": [
        {
          "output_type": "execute_result",
          "data": {
            "text/plain": [
              "<tf.Tensor: shape=(), dtype=bool, numpy=True>"
            ]
          },
          "metadata": {},
          "execution_count": 87
        }
      ]
    },
    {
      "cell_type": "code",
      "source": [
        "# Find the positional minimum\n",
        "tf.argmin(F)"
      ],
      "metadata": {
        "colab": {
          "base_uri": "https://localhost:8080/"
        },
        "id": "OTA2ZUQtNZp_",
        "outputId": "c8e38196-7603-4981-89e1-69a864648569"
      },
      "execution_count": null,
      "outputs": [
        {
          "output_type": "execute_result",
          "data": {
            "text/plain": [
              "<tf.Tensor: shape=(), dtype=int64, numpy=16>"
            ]
          },
          "metadata": {},
          "execution_count": 89
        }
      ]
    },
    {
      "cell_type": "code",
      "source": [
        "# Finding the minimum using the positional minimum inidex\n",
        "F[tf.argmin(F)]"
      ],
      "metadata": {
        "colab": {
          "base_uri": "https://localhost:8080/"
        },
        "id": "jPyerr1mNfZP",
        "outputId": "f9fd99af-e88c-4a0b-b4fe-30bb647039a2"
      },
      "execution_count": null,
      "outputs": [
        {
          "output_type": "execute_result",
          "data": {
            "text/plain": [
              "<tf.Tensor: shape=(), dtype=float32, numpy=0.009463667869567871>"
            ]
          },
          "metadata": {},
          "execution_count": 90
        }
      ]
    },
    {
      "cell_type": "markdown",
      "source": [
        "### Squeezing a tensor(removing all single dimensions)"
      ],
      "metadata": {
        "id": "z4GOO3kuN5cZ"
      }
    },
    {
      "cell_type": "code",
      "source": [
        "# Create a tensor to get started\n",
        "tf.random.set_seed(42)\n",
        "G = tf.constant(tf.random.uniform(shape=[50]), shape=(1,1,1,1,50))\n",
        "G"
      ],
      "metadata": {
        "colab": {
          "base_uri": "https://localhost:8080/"
        },
        "id": "-NdOe88XNsTI",
        "outputId": "15f70c0a-08e3-4ba6-b58e-029b20e44620"
      },
      "execution_count": null,
      "outputs": [
        {
          "output_type": "execute_result",
          "data": {
            "text/plain": [
              "<tf.Tensor: shape=(1, 1, 1, 1, 50), dtype=float32, numpy=\n",
              "array([[[[[0.6645621 , 0.44100678, 0.3528825 , 0.46448255, 0.03366041,\n",
              "           0.68467236, 0.74011743, 0.8724445 , 0.22632635, 0.22319686,\n",
              "           0.3103881 , 0.7223358 , 0.13318717, 0.5480639 , 0.5746088 ,\n",
              "           0.8996835 , 0.00946367, 0.5212307 , 0.6345445 , 0.1993283 ,\n",
              "           0.72942245, 0.54583454, 0.10756552, 0.6767061 , 0.6602763 ,\n",
              "           0.33695042, 0.60141766, 0.21062577, 0.8527372 , 0.44062173,\n",
              "           0.9485276 , 0.23752594, 0.81179297, 0.5263394 , 0.494308  ,\n",
              "           0.21612847, 0.8457197 , 0.8718841 , 0.3083862 , 0.6868038 ,\n",
              "           0.23764038, 0.7817228 , 0.9671384 , 0.06870162, 0.79873943,\n",
              "           0.66028714, 0.5871513 , 0.16461694, 0.7381023 , 0.32054043]]]]],\n",
              "      dtype=float32)>"
            ]
          },
          "metadata": {},
          "execution_count": 93
        }
      ]
    },
    {
      "cell_type": "code",
      "source": [
        "G.shape"
      ],
      "metadata": {
        "colab": {
          "base_uri": "https://localhost:8080/"
        },
        "id": "CDd2iWRROUyN",
        "outputId": "b4586854-1212-4636-b894-8381244776a8"
      },
      "execution_count": null,
      "outputs": [
        {
          "output_type": "execute_result",
          "data": {
            "text/plain": [
              "TensorShape([1, 1, 1, 1, 50])"
            ]
          },
          "metadata": {},
          "execution_count": 95
        }
      ]
    },
    {
      "cell_type": "code",
      "source": [
        "G_squeezed = tf.squeeze(G)\n",
        "G_squeezed, G_squeezed.shape"
      ],
      "metadata": {
        "colab": {
          "base_uri": "https://localhost:8080/"
        },
        "id": "tRdmd79NOeoY",
        "outputId": "cde10ff2-e9d5-48de-e493-6e2f0ccbd57d"
      },
      "execution_count": null,
      "outputs": [
        {
          "output_type": "execute_result",
          "data": {
            "text/plain": [
              "(<tf.Tensor: shape=(50,), dtype=float32, numpy=\n",
              " array([0.6645621 , 0.44100678, 0.3528825 , 0.46448255, 0.03366041,\n",
              "        0.68467236, 0.74011743, 0.8724445 , 0.22632635, 0.22319686,\n",
              "        0.3103881 , 0.7223358 , 0.13318717, 0.5480639 , 0.5746088 ,\n",
              "        0.8996835 , 0.00946367, 0.5212307 , 0.6345445 , 0.1993283 ,\n",
              "        0.72942245, 0.54583454, 0.10756552, 0.6767061 , 0.6602763 ,\n",
              "        0.33695042, 0.60141766, 0.21062577, 0.8527372 , 0.44062173,\n",
              "        0.9485276 , 0.23752594, 0.81179297, 0.5263394 , 0.494308  ,\n",
              "        0.21612847, 0.8457197 , 0.8718841 , 0.3083862 , 0.6868038 ,\n",
              "        0.23764038, 0.7817228 , 0.9671384 , 0.06870162, 0.79873943,\n",
              "        0.66028714, 0.5871513 , 0.16461694, 0.7381023 , 0.32054043],\n",
              "       dtype=float32)>,\n",
              " TensorShape([50]))"
            ]
          },
          "metadata": {},
          "execution_count": 96
        }
      ]
    },
    {
      "cell_type": "markdown",
      "source": [
        "### One-Hot encoding"
      ],
      "metadata": {
        "id": "NGPy7Y-TO4ZL"
      }
    },
    {
      "cell_type": "code",
      "source": [
        "# Create a list of indices\n",
        "some_list = [0, 1, 2, 3] #could be red, green, blue, purple\n",
        "\n",
        "# One-Hot encode our list of indices\n",
        "tf.one_hot(some_list, depth=4)"
      ],
      "metadata": {
        "colab": {
          "base_uri": "https://localhost:8080/"
        },
        "id": "gfdTkPSJOwEZ",
        "outputId": "cac2261f-3758-47d4-edb6-16831f98456e"
      },
      "execution_count": null,
      "outputs": [
        {
          "output_type": "execute_result",
          "data": {
            "text/plain": [
              "<tf.Tensor: shape=(4, 4), dtype=float32, numpy=\n",
              "array([[1., 0., 0., 0.],\n",
              "       [0., 1., 0., 0.],\n",
              "       [0., 0., 1., 0.],\n",
              "       [0., 0., 0., 1.]], dtype=float32)>"
            ]
          },
          "metadata": {},
          "execution_count": 99
        }
      ]
    },
    {
      "cell_type": "code",
      "source": [
        "# Specify custom values for one hot encoding\n",
        "tf.one_hot(some_list, depth=4, on_value=\"yo I love deep leaerning\", off_value=\"I also like to dance\")"
      ],
      "metadata": {
        "colab": {
          "base_uri": "https://localhost:8080/"
        },
        "id": "em7S2-_cPzxY",
        "outputId": "5a3a1e41-2c6a-40f7-de89-05f912f2873c"
      },
      "execution_count": null,
      "outputs": [
        {
          "output_type": "execute_result",
          "data": {
            "text/plain": [
              "<tf.Tensor: shape=(4, 4), dtype=string, numpy=\n",
              "array([[b'yo I love deep leaerning', b'I also like to dance',\n",
              "        b'I also like to dance', b'I also like to dance'],\n",
              "       [b'I also like to dance', b'yo I love deep leaerning',\n",
              "        b'I also like to dance', b'I also like to dance'],\n",
              "       [b'I also like to dance', b'I also like to dance',\n",
              "        b'yo I love deep leaerning', b'I also like to dance'],\n",
              "       [b'I also like to dance', b'I also like to dance',\n",
              "        b'I also like to dance', b'yo I love deep leaerning']],\n",
              "      dtype=object)>"
            ]
          },
          "metadata": {},
          "execution_count": 101
        }
      ]
    },
    {
      "cell_type": "markdown",
      "source": [
        "### Squaring log, square root"
      ],
      "metadata": {
        "id": "03lM7-55RLx8"
      }
    },
    {
      "cell_type": "code",
      "source": [
        "# Creating a new tensor\n",
        "H = tf.range(1, 10)\n",
        "H"
      ],
      "metadata": {
        "colab": {
          "base_uri": "https://localhost:8080/"
        },
        "id": "TrPd7ehDQSMo",
        "outputId": "a2f2470c-7c81-4e7f-bb4a-c08adcade44a"
      },
      "execution_count": null,
      "outputs": [
        {
          "output_type": "execute_result",
          "data": {
            "text/plain": [
              "<tf.Tensor: shape=(9,), dtype=int32, numpy=array([1, 2, 3, 4, 5, 6, 7, 8, 9], dtype=int32)>"
            ]
          },
          "metadata": {},
          "execution_count": 102
        }
      ]
    },
    {
      "cell_type": "code",
      "source": [
        "# Square it\n",
        "tf.square(H)"
      ],
      "metadata": {
        "colab": {
          "base_uri": "https://localhost:8080/"
        },
        "id": "dl5O2bv6RdCk",
        "outputId": "d20ab54d-55d3-493a-ccfc-dca628ce33cf"
      },
      "execution_count": null,
      "outputs": [
        {
          "output_type": "execute_result",
          "data": {
            "text/plain": [
              "<tf.Tensor: shape=(9,), dtype=int32, numpy=array([ 1,  4,  9, 16, 25, 36, 49, 64, 81], dtype=int32)>"
            ]
          },
          "metadata": {},
          "execution_count": 103
        }
      ]
    },
    {
      "cell_type": "code",
      "source": [
        "# Let's find the squareroot\n",
        "tf.sqrt(tf.cast(H, dtype= tf.float32))"
      ],
      "metadata": {
        "colab": {
          "base_uri": "https://localhost:8080/"
        },
        "id": "cJuCVQSeRge_",
        "outputId": "b88e8432-3e22-48f0-ad24-613c40c15639"
      },
      "execution_count": null,
      "outputs": [
        {
          "output_type": "execute_result",
          "data": {
            "text/plain": [
              "<tf.Tensor: shape=(9,), dtype=float32, numpy=\n",
              "array([1.       , 1.4142135, 1.7320508, 2.       , 2.236068 , 2.4494898,\n",
              "       2.6457512, 2.828427 , 3.       ], dtype=float32)>"
            ]
          },
          "metadata": {},
          "execution_count": 104
        }
      ]
    },
    {
      "cell_type": "code",
      "source": [
        "# Find the log\n",
        "tf.math.log(tf.cast(H,dtype= tf.float32))"
      ],
      "metadata": {
        "colab": {
          "base_uri": "https://localhost:8080/"
        },
        "id": "-HWn0lcYRyko",
        "outputId": "926fcb0c-df16-45e2-a86d-ea9588165cc0"
      },
      "execution_count": null,
      "outputs": [
        {
          "output_type": "execute_result",
          "data": {
            "text/plain": [
              "<tf.Tensor: shape=(9,), dtype=float32, numpy=\n",
              "array([0.       , 0.6931472, 1.0986123, 1.3862944, 1.609438 , 1.7917595,\n",
              "       1.9459102, 2.0794415, 2.1972246], dtype=float32)>"
            ]
          },
          "metadata": {},
          "execution_count": 108
        }
      ]
    },
    {
      "cell_type": "markdown",
      "source": [
        "### Tensors and Numpy\n",
        "\n",
        "Tensorflow interact beautifully with NumPy arrays."
      ],
      "metadata": {
        "id": "Jh8OaJp0SORl"
      }
    },
    {
      "cell_type": "code",
      "source": [
        "# Creating a tensor directly from a Numpy array\n",
        "J = tf.constant(np.array([3., 7., 10.]))\n",
        "J"
      ],
      "metadata": {
        "colab": {
          "base_uri": "https://localhost:8080/"
        },
        "id": "W1Y1hRZER8Pp",
        "outputId": "aa7c71f0-e9ec-4132-f5ea-6037c0b6a367"
      },
      "execution_count": null,
      "outputs": [
        {
          "output_type": "execute_result",
          "data": {
            "text/plain": [
              "<tf.Tensor: shape=(3,), dtype=float64, numpy=array([ 3.,  7., 10.])>"
            ]
          },
          "metadata": {},
          "execution_count": 110
        }
      ]
    },
    {
      "cell_type": "code",
      "source": [
        "#Converting our tensor back to a NumPy array\n",
        "np.array(J), type(np.array(J))"
      ],
      "metadata": {
        "colab": {
          "base_uri": "https://localhost:8080/"
        },
        "id": "lfF_7umlSmiC",
        "outputId": "e75e7a2d-e925-4c79-c415-967ceca35b56"
      },
      "execution_count": null,
      "outputs": [
        {
          "output_type": "execute_result",
          "data": {
            "text/plain": [
              "(array([ 3.,  7., 10.]), numpy.ndarray)"
            ]
          },
          "metadata": {},
          "execution_count": 111
        }
      ]
    },
    {
      "cell_type": "code",
      "source": [
        "#Convert tensor J to a NumPy array\n",
        "J.numpy(), type(J.numpy())"
      ],
      "metadata": {
        "colab": {
          "base_uri": "https://localhost:8080/"
        },
        "id": "yNysTs9RS0oD",
        "outputId": "7b6f7b33-61b4-44f8-cca3-98eb0bad44ca"
      },
      "execution_count": null,
      "outputs": [
        {
          "output_type": "execute_result",
          "data": {
            "text/plain": [
              "(array([ 3.,  7., 10.]), numpy.ndarray)"
            ]
          },
          "metadata": {},
          "execution_count": 112
        }
      ]
    },
    {
      "cell_type": "code",
      "source": [
        "# The default types of each are slightly diffrent\n",
        "numpy_J = tf.constant(np.array([3., 7., 10.]))\n",
        "tensor_J = tf.constant([3., 7., 10.])\n",
        "\n",
        "# Checking the datatype of each\n",
        "numpy_J.dtype, tensor_J.dtype"
      ],
      "metadata": {
        "colab": {
          "base_uri": "https://localhost:8080/"
        },
        "id": "gUX7TVlZTDDb",
        "outputId": "fc4115e9-4d91-4c4b-c447-be427b3db3dd"
      },
      "execution_count": null,
      "outputs": [
        {
          "output_type": "execute_result",
          "data": {
            "text/plain": [
              "(tf.float64, tf.float32)"
            ]
          },
          "metadata": {},
          "execution_count": 114
        }
      ]
    },
    {
      "cell_type": "markdown",
      "source": [
        "### finding access to GPUs"
      ],
      "metadata": {
        "id": "NxCOcAMzUToI"
      }
    },
    {
      "cell_type": "code",
      "source": [
        "import tensorflow as tf\n",
        "tf.config.list_physical_devices()"
      ],
      "metadata": {
        "colab": {
          "base_uri": "https://localhost:8080/"
        },
        "id": "ylXkAxVWTJ1p",
        "outputId": "bc565c82-4254-4950-c5ae-c1d3366d809c"
      },
      "execution_count": null,
      "outputs": [
        {
          "output_type": "execute_result",
          "data": {
            "text/plain": [
              "[PhysicalDevice(name='/physical_device:CPU:0', device_type='CPU'),\n",
              " PhysicalDevice(name='/physical_device:GPU:0', device_type='GPU')]"
            ]
          },
          "metadata": {},
          "execution_count": 33
        }
      ]
    },
    {
      "cell_type": "code",
      "source": [
        "!nvidia-smi"
      ],
      "metadata": {
        "id": "rH-Zy4lAUkNn",
        "colab": {
          "base_uri": "https://localhost:8080/"
        },
        "outputId": "64f72a5b-718d-4ce5-f160-138bd5da5b6a"
      },
      "execution_count": null,
      "outputs": [
        {
          "output_type": "stream",
          "name": "stdout",
          "text": [
            "Mon Feb 17 12:51:55 2025       \n",
            "+-----------------------------------------------------------------------------------------+\n",
            "| NVIDIA-SMI 550.54.15              Driver Version: 550.54.15      CUDA Version: 12.4     |\n",
            "|-----------------------------------------+------------------------+----------------------+\n",
            "| GPU  Name                 Persistence-M | Bus-Id          Disp.A | Volatile Uncorr. ECC |\n",
            "| Fan  Temp   Perf          Pwr:Usage/Cap |           Memory-Usage | GPU-Util  Compute M. |\n",
            "|                                         |                        |               MIG M. |\n",
            "|=========================================+========================+======================|\n",
            "|   0  Tesla T4                       Off |   00000000:00:04.0 Off |                    0 |\n",
            "| N/A   52C    P0             26W /   70W |     104MiB /  15360MiB |      0%      Default |\n",
            "|                                         |                        |                  N/A |\n",
            "+-----------------------------------------+------------------------+----------------------+\n",
            "                                                                                         \n",
            "+-----------------------------------------------------------------------------------------+\n",
            "| Processes:                                                                              |\n",
            "|  GPU   GI   CI        PID   Type   Process name                              GPU Memory |\n",
            "|        ID   ID                                                               Usage      |\n",
            "|=========================================================================================|\n",
            "+-----------------------------------------------------------------------------------------+\n"
          ]
        }
      ]
    },
    {
      "cell_type": "markdown",
      "source": [
        "**Note:** If you have access to a CUDA-enabled GPU, TensorFlow will automatically use it whenever possible."
      ],
      "metadata": {
        "id": "Iw3yMr9dy1Di"
      }
    },
    {
      "cell_type": "markdown",
      "source": [
        "##EXERCISE"
      ],
      "metadata": {
        "id": "6-KPiXJOz2-B"
      }
    },
    {
      "cell_type": "markdown",
      "source": [
        "* 1"
      ],
      "metadata": {
        "id": "K8NhJ8aF1XHa"
      }
    },
    {
      "cell_type": "code",
      "source": [
        "S = tf.constant([1])\n",
        "V = tf.constant([12, 32])\n",
        "M = tf.constant([[12, 18],\n",
        "                 [56, 96]])\n",
        "T = tf.constant([[[12, 23],\n",
        "                  [34, 65]],\n",
        "                 [[53, 86],\n",
        "                  [64, 86]]])\n",
        "print(\"Scalar =\",S,'\\n')\n",
        "print(\"Vector =\",V,'\\n')\n",
        "print(\"Matrix =\",M,'\\n')\n",
        "print(\"Tensor =\",T)"
      ],
      "metadata": {
        "colab": {
          "base_uri": "https://localhost:8080/"
        },
        "id": "IryjU0rWxuge",
        "outputId": "0c720eff-642c-49aa-f7d9-0ec63b380c56"
      },
      "execution_count": null,
      "outputs": [
        {
          "output_type": "stream",
          "name": "stdout",
          "text": [
            "Scalar = tf.Tensor([1], shape=(1,), dtype=int32) \n",
            "\n",
            "Vector = tf.Tensor([12 32], shape=(2,), dtype=int32) \n",
            "\n",
            "Matrix = tf.Tensor(\n",
            "[[12 18]\n",
            " [56 96]], shape=(2, 2), dtype=int32) \n",
            "\n",
            "Tensor = tf.Tensor(\n",
            "[[[12 23]\n",
            "  [34 65]]\n",
            "\n",
            " [[53 86]\n",
            "  [64 86]]], shape=(2, 2, 2), dtype=int32)\n"
          ]
        }
      ]
    },
    {
      "cell_type": "markdown",
      "source": [
        "* 2"
      ],
      "metadata": {
        "id": "V6mUQaNU1hPJ"
      }
    },
    {
      "cell_type": "code",
      "source": [
        "print(\"Scalar----\\n\",\"Shape:\\n\",tf.shape(S),\"\\nRank:\\n\",tf.rank(S),\"\\nSize\\n\",tf.size(S),\"\\n\")\n",
        "print(\"Vector----\\n\",\"Shape:\\n\",tf.shape(V),\"\\nRank:\\n\",tf.rank(V),\"\\nSize\\n\",tf.size(V),\"\\n\")\n",
        "print(\"Matrix----\\n\",\"Shape:\\n\",tf.shape(M),\"\\nRank:\\n\",tf.rank(M),\"\\nSize\\n\",tf.size(M),\"\\n\")\n",
        "print(\"Tensor----\\n\",\"Shape:\\n\",tf.shape(T),\"\\nRank:\\n\",tf.rank(T),\"\\nSize\\n\",tf.size(T))"
      ],
      "metadata": {
        "colab": {
          "base_uri": "https://localhost:8080/"
        },
        "id": "c111b59r0ytZ",
        "outputId": "670eb5ce-c3aa-40b2-d464-9265bc53c72c"
      },
      "execution_count": null,
      "outputs": [
        {
          "output_type": "stream",
          "name": "stdout",
          "text": [
            "Scalar----\n",
            " Shape:\n",
            " tf.Tensor([1], shape=(1,), dtype=int32) \n",
            "Rank:\n",
            " tf.Tensor(1, shape=(), dtype=int32) \n",
            "Size\n",
            " tf.Tensor(1, shape=(), dtype=int32) \n",
            "\n",
            "Vector----\n",
            " Shape:\n",
            " tf.Tensor([2], shape=(1,), dtype=int32) \n",
            "Rank:\n",
            " tf.Tensor(1, shape=(), dtype=int32) \n",
            "Size\n",
            " tf.Tensor(2, shape=(), dtype=int32) \n",
            "\n",
            "Matrix----\n",
            " Shape:\n",
            " tf.Tensor([2 2], shape=(2,), dtype=int32) \n",
            "Rank:\n",
            " tf.Tensor(2, shape=(), dtype=int32) \n",
            "Size\n",
            " tf.Tensor(4, shape=(), dtype=int32) \n",
            "\n",
            "Tensor----\n",
            " Shape:\n",
            " tf.Tensor([2 2 2], shape=(3,), dtype=int32) \n",
            "Rank:\n",
            " tf.Tensor(3, shape=(), dtype=int32) \n",
            "Size\n",
            " tf.Tensor(8, shape=(), dtype=int32)\n"
          ]
        }
      ]
    },
    {
      "cell_type": "code",
      "source": [
        "import numpy as np\n",
        "R1= tf.constant(np.random.uniform(0, 1),shape=[5, 300])\n",
        "R2= tf.constant(np.random.uniform(0, 1),shape=[5, 300])\n",
        "R1, R2"
      ],
      "metadata": {
        "colab": {
          "base_uri": "https://localhost:8080/"
        },
        "id": "92oOtEbf1nR7",
        "outputId": "b5fa1e36-4b58-432b-ff43-6307da48b6b0"
      },
      "execution_count": null,
      "outputs": [
        {
          "output_type": "execute_result",
          "data": {
            "text/plain": [
              "(<tf.Tensor: shape=(5, 300), dtype=float32, numpy=\n",
              " array([[0.81652534, 0.81652534, 0.81652534, ..., 0.81652534, 0.81652534,\n",
              "         0.81652534],\n",
              "        [0.81652534, 0.81652534, 0.81652534, ..., 0.81652534, 0.81652534,\n",
              "         0.81652534],\n",
              "        [0.81652534, 0.81652534, 0.81652534, ..., 0.81652534, 0.81652534,\n",
              "         0.81652534],\n",
              "        [0.81652534, 0.81652534, 0.81652534, ..., 0.81652534, 0.81652534,\n",
              "         0.81652534],\n",
              "        [0.81652534, 0.81652534, 0.81652534, ..., 0.81652534, 0.81652534,\n",
              "         0.81652534]], dtype=float32)>,\n",
              " <tf.Tensor: shape=(5, 300), dtype=float32, numpy=\n",
              " array([[0.14228834, 0.14228834, 0.14228834, ..., 0.14228834, 0.14228834,\n",
              "         0.14228834],\n",
              "        [0.14228834, 0.14228834, 0.14228834, ..., 0.14228834, 0.14228834,\n",
              "         0.14228834],\n",
              "        [0.14228834, 0.14228834, 0.14228834, ..., 0.14228834, 0.14228834,\n",
              "         0.14228834],\n",
              "        [0.14228834, 0.14228834, 0.14228834, ..., 0.14228834, 0.14228834,\n",
              "         0.14228834],\n",
              "        [0.14228834, 0.14228834, 0.14228834, ..., 0.14228834, 0.14228834,\n",
              "         0.14228834]], dtype=float32)>)"
            ]
          },
          "metadata": {},
          "execution_count": 37
        }
      ]
    },
    {
      "cell_type": "markdown",
      "source": [
        "* 3"
      ],
      "metadata": {
        "id": "qT8OWZyk6Eig"
      }
    },
    {
      "cell_type": "code",
      "source": [],
      "metadata": {
        "id": "qjTbex737nqp"
      },
      "execution_count": null,
      "outputs": []
    },
    {
      "cell_type": "code",
      "source": [
        "tf.matmul(R1,tf.transpose(R2))"
      ],
      "metadata": {
        "colab": {
          "base_uri": "https://localhost:8080/"
        },
        "id": "OkrUTyHY3KZp",
        "outputId": "c41d9fba-797c-49e4-e0f6-f9ba72728c47"
      },
      "execution_count": null,
      "outputs": [
        {
          "output_type": "execute_result",
          "data": {
            "text/plain": [
              "<tf.Tensor: shape=(5, 5), dtype=float32, numpy=\n",
              "array([[34.854618, 34.854618, 34.854618, 34.854618, 34.854618],\n",
              "       [34.854618, 34.854618, 34.854618, 34.854618, 34.854618],\n",
              "       [34.854618, 34.854618, 34.854618, 34.854618, 34.854618],\n",
              "       [34.854618, 34.854618, 34.854618, 34.854618, 34.854618],\n",
              "       [34.854618, 34.854618, 34.854618, 34.854618, 34.854618]],\n",
              "      dtype=float32)>"
            ]
          },
          "metadata": {},
          "execution_count": 46
        }
      ]
    },
    {
      "cell_type": "markdown",
      "source": [
        "* 4"
      ],
      "metadata": {
        "id": "SN5WFThq7hdh"
      }
    },
    {
      "cell_type": "code",
      "source": [
        "R1* R2"
      ],
      "metadata": {
        "colab": {
          "base_uri": "https://localhost:8080/"
        },
        "id": "--XaHXCV6VDR",
        "outputId": "e440ab3a-2d01-479e-c8f6-7dc67a9d1588"
      },
      "execution_count": null,
      "outputs": [
        {
          "output_type": "execute_result",
          "data": {
            "text/plain": [
              "<tf.Tensor: shape=(5, 300), dtype=float32, numpy=\n",
              "array([[0.11618204, 0.11618204, 0.11618204, ..., 0.11618204, 0.11618204,\n",
              "        0.11618204],\n",
              "       [0.11618204, 0.11618204, 0.11618204, ..., 0.11618204, 0.11618204,\n",
              "        0.11618204],\n",
              "       [0.11618204, 0.11618204, 0.11618204, ..., 0.11618204, 0.11618204,\n",
              "        0.11618204],\n",
              "       [0.11618204, 0.11618204, 0.11618204, ..., 0.11618204, 0.11618204,\n",
              "        0.11618204],\n",
              "       [0.11618204, 0.11618204, 0.11618204, ..., 0.11618204, 0.11618204,\n",
              "        0.11618204]], dtype=float32)>"
            ]
          },
          "metadata": {},
          "execution_count": 51
        }
      ]
    },
    {
      "cell_type": "markdown",
      "source": [
        "* 5"
      ],
      "metadata": {
        "id": "QMY8u-KB8GTE"
      }
    },
    {
      "cell_type": "code",
      "source": [
        "R3 = tf.constant(np.random.uniform(0,1), shape= [224, 224, 3])\n",
        "R3"
      ],
      "metadata": {
        "colab": {
          "base_uri": "https://localhost:8080/"
        },
        "id": "nqps6Rue7ud1",
        "outputId": "39b9612d-5d4e-412b-c9a6-9f8ea842afb9"
      },
      "execution_count": null,
      "outputs": [
        {
          "output_type": "execute_result",
          "data": {
            "text/plain": [
              "<tf.Tensor: shape=(224, 224, 3), dtype=float32, numpy=\n",
              "array([[[0.01072124, 0.01072124, 0.01072124],\n",
              "        [0.01072124, 0.01072124, 0.01072124],\n",
              "        [0.01072124, 0.01072124, 0.01072124],\n",
              "        ...,\n",
              "        [0.01072124, 0.01072124, 0.01072124],\n",
              "        [0.01072124, 0.01072124, 0.01072124],\n",
              "        [0.01072124, 0.01072124, 0.01072124]],\n",
              "\n",
              "       [[0.01072124, 0.01072124, 0.01072124],\n",
              "        [0.01072124, 0.01072124, 0.01072124],\n",
              "        [0.01072124, 0.01072124, 0.01072124],\n",
              "        ...,\n",
              "        [0.01072124, 0.01072124, 0.01072124],\n",
              "        [0.01072124, 0.01072124, 0.01072124],\n",
              "        [0.01072124, 0.01072124, 0.01072124]],\n",
              "\n",
              "       [[0.01072124, 0.01072124, 0.01072124],\n",
              "        [0.01072124, 0.01072124, 0.01072124],\n",
              "        [0.01072124, 0.01072124, 0.01072124],\n",
              "        ...,\n",
              "        [0.01072124, 0.01072124, 0.01072124],\n",
              "        [0.01072124, 0.01072124, 0.01072124],\n",
              "        [0.01072124, 0.01072124, 0.01072124]],\n",
              "\n",
              "       ...,\n",
              "\n",
              "       [[0.01072124, 0.01072124, 0.01072124],\n",
              "        [0.01072124, 0.01072124, 0.01072124],\n",
              "        [0.01072124, 0.01072124, 0.01072124],\n",
              "        ...,\n",
              "        [0.01072124, 0.01072124, 0.01072124],\n",
              "        [0.01072124, 0.01072124, 0.01072124],\n",
              "        [0.01072124, 0.01072124, 0.01072124]],\n",
              "\n",
              "       [[0.01072124, 0.01072124, 0.01072124],\n",
              "        [0.01072124, 0.01072124, 0.01072124],\n",
              "        [0.01072124, 0.01072124, 0.01072124],\n",
              "        ...,\n",
              "        [0.01072124, 0.01072124, 0.01072124],\n",
              "        [0.01072124, 0.01072124, 0.01072124],\n",
              "        [0.01072124, 0.01072124, 0.01072124]],\n",
              "\n",
              "       [[0.01072124, 0.01072124, 0.01072124],\n",
              "        [0.01072124, 0.01072124, 0.01072124],\n",
              "        [0.01072124, 0.01072124, 0.01072124],\n",
              "        ...,\n",
              "        [0.01072124, 0.01072124, 0.01072124],\n",
              "        [0.01072124, 0.01072124, 0.01072124],\n",
              "        [0.01072124, 0.01072124, 0.01072124]]], dtype=float32)>"
            ]
          },
          "metadata": {},
          "execution_count": 56
        }
      ]
    },
    {
      "cell_type": "markdown",
      "source": [
        "* 6"
      ],
      "metadata": {
        "id": "b4MIYrrz8rrg"
      }
    },
    {
      "cell_type": "code",
      "source": [
        "tf.reduce_min(R3, axis=1)\n",
        "tf.reduce_min(R3, axis=1)"
      ],
      "metadata": {
        "colab": {
          "base_uri": "https://localhost:8080/"
        },
        "id": "rRI1PH8g8Yrz",
        "outputId": "bcefba4a-7acc-4157-bfb2-bc103cf69b67"
      },
      "execution_count": null,
      "outputs": [
        {
          "output_type": "execute_result",
          "data": {
            "text/plain": [
              "<tf.Tensor: shape=(224, 3), dtype=float32, numpy=\n",
              "array([[0.01072124, 0.01072124, 0.01072124],\n",
              "       [0.01072124, 0.01072124, 0.01072124],\n",
              "       [0.01072124, 0.01072124, 0.01072124],\n",
              "       [0.01072124, 0.01072124, 0.01072124],\n",
              "       [0.01072124, 0.01072124, 0.01072124],\n",
              "       [0.01072124, 0.01072124, 0.01072124],\n",
              "       [0.01072124, 0.01072124, 0.01072124],\n",
              "       [0.01072124, 0.01072124, 0.01072124],\n",
              "       [0.01072124, 0.01072124, 0.01072124],\n",
              "       [0.01072124, 0.01072124, 0.01072124],\n",
              "       [0.01072124, 0.01072124, 0.01072124],\n",
              "       [0.01072124, 0.01072124, 0.01072124],\n",
              "       [0.01072124, 0.01072124, 0.01072124],\n",
              "       [0.01072124, 0.01072124, 0.01072124],\n",
              "       [0.01072124, 0.01072124, 0.01072124],\n",
              "       [0.01072124, 0.01072124, 0.01072124],\n",
              "       [0.01072124, 0.01072124, 0.01072124],\n",
              "       [0.01072124, 0.01072124, 0.01072124],\n",
              "       [0.01072124, 0.01072124, 0.01072124],\n",
              "       [0.01072124, 0.01072124, 0.01072124],\n",
              "       [0.01072124, 0.01072124, 0.01072124],\n",
              "       [0.01072124, 0.01072124, 0.01072124],\n",
              "       [0.01072124, 0.01072124, 0.01072124],\n",
              "       [0.01072124, 0.01072124, 0.01072124],\n",
              "       [0.01072124, 0.01072124, 0.01072124],\n",
              "       [0.01072124, 0.01072124, 0.01072124],\n",
              "       [0.01072124, 0.01072124, 0.01072124],\n",
              "       [0.01072124, 0.01072124, 0.01072124],\n",
              "       [0.01072124, 0.01072124, 0.01072124],\n",
              "       [0.01072124, 0.01072124, 0.01072124],\n",
              "       [0.01072124, 0.01072124, 0.01072124],\n",
              "       [0.01072124, 0.01072124, 0.01072124],\n",
              "       [0.01072124, 0.01072124, 0.01072124],\n",
              "       [0.01072124, 0.01072124, 0.01072124],\n",
              "       [0.01072124, 0.01072124, 0.01072124],\n",
              "       [0.01072124, 0.01072124, 0.01072124],\n",
              "       [0.01072124, 0.01072124, 0.01072124],\n",
              "       [0.01072124, 0.01072124, 0.01072124],\n",
              "       [0.01072124, 0.01072124, 0.01072124],\n",
              "       [0.01072124, 0.01072124, 0.01072124],\n",
              "       [0.01072124, 0.01072124, 0.01072124],\n",
              "       [0.01072124, 0.01072124, 0.01072124],\n",
              "       [0.01072124, 0.01072124, 0.01072124],\n",
              "       [0.01072124, 0.01072124, 0.01072124],\n",
              "       [0.01072124, 0.01072124, 0.01072124],\n",
              "       [0.01072124, 0.01072124, 0.01072124],\n",
              "       [0.01072124, 0.01072124, 0.01072124],\n",
              "       [0.01072124, 0.01072124, 0.01072124],\n",
              "       [0.01072124, 0.01072124, 0.01072124],\n",
              "       [0.01072124, 0.01072124, 0.01072124],\n",
              "       [0.01072124, 0.01072124, 0.01072124],\n",
              "       [0.01072124, 0.01072124, 0.01072124],\n",
              "       [0.01072124, 0.01072124, 0.01072124],\n",
              "       [0.01072124, 0.01072124, 0.01072124],\n",
              "       [0.01072124, 0.01072124, 0.01072124],\n",
              "       [0.01072124, 0.01072124, 0.01072124],\n",
              "       [0.01072124, 0.01072124, 0.01072124],\n",
              "       [0.01072124, 0.01072124, 0.01072124],\n",
              "       [0.01072124, 0.01072124, 0.01072124],\n",
              "       [0.01072124, 0.01072124, 0.01072124],\n",
              "       [0.01072124, 0.01072124, 0.01072124],\n",
              "       [0.01072124, 0.01072124, 0.01072124],\n",
              "       [0.01072124, 0.01072124, 0.01072124],\n",
              "       [0.01072124, 0.01072124, 0.01072124],\n",
              "       [0.01072124, 0.01072124, 0.01072124],\n",
              "       [0.01072124, 0.01072124, 0.01072124],\n",
              "       [0.01072124, 0.01072124, 0.01072124],\n",
              "       [0.01072124, 0.01072124, 0.01072124],\n",
              "       [0.01072124, 0.01072124, 0.01072124],\n",
              "       [0.01072124, 0.01072124, 0.01072124],\n",
              "       [0.01072124, 0.01072124, 0.01072124],\n",
              "       [0.01072124, 0.01072124, 0.01072124],\n",
              "       [0.01072124, 0.01072124, 0.01072124],\n",
              "       [0.01072124, 0.01072124, 0.01072124],\n",
              "       [0.01072124, 0.01072124, 0.01072124],\n",
              "       [0.01072124, 0.01072124, 0.01072124],\n",
              "       [0.01072124, 0.01072124, 0.01072124],\n",
              "       [0.01072124, 0.01072124, 0.01072124],\n",
              "       [0.01072124, 0.01072124, 0.01072124],\n",
              "       [0.01072124, 0.01072124, 0.01072124],\n",
              "       [0.01072124, 0.01072124, 0.01072124],\n",
              "       [0.01072124, 0.01072124, 0.01072124],\n",
              "       [0.01072124, 0.01072124, 0.01072124],\n",
              "       [0.01072124, 0.01072124, 0.01072124],\n",
              "       [0.01072124, 0.01072124, 0.01072124],\n",
              "       [0.01072124, 0.01072124, 0.01072124],\n",
              "       [0.01072124, 0.01072124, 0.01072124],\n",
              "       [0.01072124, 0.01072124, 0.01072124],\n",
              "       [0.01072124, 0.01072124, 0.01072124],\n",
              "       [0.01072124, 0.01072124, 0.01072124],\n",
              "       [0.01072124, 0.01072124, 0.01072124],\n",
              "       [0.01072124, 0.01072124, 0.01072124],\n",
              "       [0.01072124, 0.01072124, 0.01072124],\n",
              "       [0.01072124, 0.01072124, 0.01072124],\n",
              "       [0.01072124, 0.01072124, 0.01072124],\n",
              "       [0.01072124, 0.01072124, 0.01072124],\n",
              "       [0.01072124, 0.01072124, 0.01072124],\n",
              "       [0.01072124, 0.01072124, 0.01072124],\n",
              "       [0.01072124, 0.01072124, 0.01072124],\n",
              "       [0.01072124, 0.01072124, 0.01072124],\n",
              "       [0.01072124, 0.01072124, 0.01072124],\n",
              "       [0.01072124, 0.01072124, 0.01072124],\n",
              "       [0.01072124, 0.01072124, 0.01072124],\n",
              "       [0.01072124, 0.01072124, 0.01072124],\n",
              "       [0.01072124, 0.01072124, 0.01072124],\n",
              "       [0.01072124, 0.01072124, 0.01072124],\n",
              "       [0.01072124, 0.01072124, 0.01072124],\n",
              "       [0.01072124, 0.01072124, 0.01072124],\n",
              "       [0.01072124, 0.01072124, 0.01072124],\n",
              "       [0.01072124, 0.01072124, 0.01072124],\n",
              "       [0.01072124, 0.01072124, 0.01072124],\n",
              "       [0.01072124, 0.01072124, 0.01072124],\n",
              "       [0.01072124, 0.01072124, 0.01072124],\n",
              "       [0.01072124, 0.01072124, 0.01072124],\n",
              "       [0.01072124, 0.01072124, 0.01072124],\n",
              "       [0.01072124, 0.01072124, 0.01072124],\n",
              "       [0.01072124, 0.01072124, 0.01072124],\n",
              "       [0.01072124, 0.01072124, 0.01072124],\n",
              "       [0.01072124, 0.01072124, 0.01072124],\n",
              "       [0.01072124, 0.01072124, 0.01072124],\n",
              "       [0.01072124, 0.01072124, 0.01072124],\n",
              "       [0.01072124, 0.01072124, 0.01072124],\n",
              "       [0.01072124, 0.01072124, 0.01072124],\n",
              "       [0.01072124, 0.01072124, 0.01072124],\n",
              "       [0.01072124, 0.01072124, 0.01072124],\n",
              "       [0.01072124, 0.01072124, 0.01072124],\n",
              "       [0.01072124, 0.01072124, 0.01072124],\n",
              "       [0.01072124, 0.01072124, 0.01072124],\n",
              "       [0.01072124, 0.01072124, 0.01072124],\n",
              "       [0.01072124, 0.01072124, 0.01072124],\n",
              "       [0.01072124, 0.01072124, 0.01072124],\n",
              "       [0.01072124, 0.01072124, 0.01072124],\n",
              "       [0.01072124, 0.01072124, 0.01072124],\n",
              "       [0.01072124, 0.01072124, 0.01072124],\n",
              "       [0.01072124, 0.01072124, 0.01072124],\n",
              "       [0.01072124, 0.01072124, 0.01072124],\n",
              "       [0.01072124, 0.01072124, 0.01072124],\n",
              "       [0.01072124, 0.01072124, 0.01072124],\n",
              "       [0.01072124, 0.01072124, 0.01072124],\n",
              "       [0.01072124, 0.01072124, 0.01072124],\n",
              "       [0.01072124, 0.01072124, 0.01072124],\n",
              "       [0.01072124, 0.01072124, 0.01072124],\n",
              "       [0.01072124, 0.01072124, 0.01072124],\n",
              "       [0.01072124, 0.01072124, 0.01072124],\n",
              "       [0.01072124, 0.01072124, 0.01072124],\n",
              "       [0.01072124, 0.01072124, 0.01072124],\n",
              "       [0.01072124, 0.01072124, 0.01072124],\n",
              "       [0.01072124, 0.01072124, 0.01072124],\n",
              "       [0.01072124, 0.01072124, 0.01072124],\n",
              "       [0.01072124, 0.01072124, 0.01072124],\n",
              "       [0.01072124, 0.01072124, 0.01072124],\n",
              "       [0.01072124, 0.01072124, 0.01072124],\n",
              "       [0.01072124, 0.01072124, 0.01072124],\n",
              "       [0.01072124, 0.01072124, 0.01072124],\n",
              "       [0.01072124, 0.01072124, 0.01072124],\n",
              "       [0.01072124, 0.01072124, 0.01072124],\n",
              "       [0.01072124, 0.01072124, 0.01072124],\n",
              "       [0.01072124, 0.01072124, 0.01072124],\n",
              "       [0.01072124, 0.01072124, 0.01072124],\n",
              "       [0.01072124, 0.01072124, 0.01072124],\n",
              "       [0.01072124, 0.01072124, 0.01072124],\n",
              "       [0.01072124, 0.01072124, 0.01072124],\n",
              "       [0.01072124, 0.01072124, 0.01072124],\n",
              "       [0.01072124, 0.01072124, 0.01072124],\n",
              "       [0.01072124, 0.01072124, 0.01072124],\n",
              "       [0.01072124, 0.01072124, 0.01072124],\n",
              "       [0.01072124, 0.01072124, 0.01072124],\n",
              "       [0.01072124, 0.01072124, 0.01072124],\n",
              "       [0.01072124, 0.01072124, 0.01072124],\n",
              "       [0.01072124, 0.01072124, 0.01072124],\n",
              "       [0.01072124, 0.01072124, 0.01072124],\n",
              "       [0.01072124, 0.01072124, 0.01072124],\n",
              "       [0.01072124, 0.01072124, 0.01072124],\n",
              "       [0.01072124, 0.01072124, 0.01072124],\n",
              "       [0.01072124, 0.01072124, 0.01072124],\n",
              "       [0.01072124, 0.01072124, 0.01072124],\n",
              "       [0.01072124, 0.01072124, 0.01072124],\n",
              "       [0.01072124, 0.01072124, 0.01072124],\n",
              "       [0.01072124, 0.01072124, 0.01072124],\n",
              "       [0.01072124, 0.01072124, 0.01072124],\n",
              "       [0.01072124, 0.01072124, 0.01072124],\n",
              "       [0.01072124, 0.01072124, 0.01072124],\n",
              "       [0.01072124, 0.01072124, 0.01072124],\n",
              "       [0.01072124, 0.01072124, 0.01072124],\n",
              "       [0.01072124, 0.01072124, 0.01072124],\n",
              "       [0.01072124, 0.01072124, 0.01072124],\n",
              "       [0.01072124, 0.01072124, 0.01072124],\n",
              "       [0.01072124, 0.01072124, 0.01072124],\n",
              "       [0.01072124, 0.01072124, 0.01072124],\n",
              "       [0.01072124, 0.01072124, 0.01072124],\n",
              "       [0.01072124, 0.01072124, 0.01072124],\n",
              "       [0.01072124, 0.01072124, 0.01072124],\n",
              "       [0.01072124, 0.01072124, 0.01072124],\n",
              "       [0.01072124, 0.01072124, 0.01072124],\n",
              "       [0.01072124, 0.01072124, 0.01072124],\n",
              "       [0.01072124, 0.01072124, 0.01072124],\n",
              "       [0.01072124, 0.01072124, 0.01072124],\n",
              "       [0.01072124, 0.01072124, 0.01072124],\n",
              "       [0.01072124, 0.01072124, 0.01072124],\n",
              "       [0.01072124, 0.01072124, 0.01072124],\n",
              "       [0.01072124, 0.01072124, 0.01072124],\n",
              "       [0.01072124, 0.01072124, 0.01072124],\n",
              "       [0.01072124, 0.01072124, 0.01072124],\n",
              "       [0.01072124, 0.01072124, 0.01072124],\n",
              "       [0.01072124, 0.01072124, 0.01072124],\n",
              "       [0.01072124, 0.01072124, 0.01072124],\n",
              "       [0.01072124, 0.01072124, 0.01072124],\n",
              "       [0.01072124, 0.01072124, 0.01072124],\n",
              "       [0.01072124, 0.01072124, 0.01072124],\n",
              "       [0.01072124, 0.01072124, 0.01072124],\n",
              "       [0.01072124, 0.01072124, 0.01072124],\n",
              "       [0.01072124, 0.01072124, 0.01072124],\n",
              "       [0.01072124, 0.01072124, 0.01072124],\n",
              "       [0.01072124, 0.01072124, 0.01072124],\n",
              "       [0.01072124, 0.01072124, 0.01072124],\n",
              "       [0.01072124, 0.01072124, 0.01072124],\n",
              "       [0.01072124, 0.01072124, 0.01072124],\n",
              "       [0.01072124, 0.01072124, 0.01072124],\n",
              "       [0.01072124, 0.01072124, 0.01072124],\n",
              "       [0.01072124, 0.01072124, 0.01072124],\n",
              "       [0.01072124, 0.01072124, 0.01072124],\n",
              "       [0.01072124, 0.01072124, 0.01072124],\n",
              "       [0.01072124, 0.01072124, 0.01072124],\n",
              "       [0.01072124, 0.01072124, 0.01072124]], dtype=float32)>"
            ]
          },
          "metadata": {},
          "execution_count": 60
        }
      ]
    },
    {
      "cell_type": "markdown",
      "source": [
        "* 7"
      ],
      "metadata": {
        "id": "XH2k3ymt9ZnJ"
      }
    },
    {
      "cell_type": "code",
      "source": [
        "R4 = tf.random.normal(shape=[1, 224, 224, 3])\n",
        "R4"
      ],
      "metadata": {
        "colab": {
          "base_uri": "https://localhost:8080/"
        },
        "id": "gHNBRkjU9En5",
        "outputId": "fa9a0528-b40f-4f60-cffc-5db624774c29"
      },
      "execution_count": null,
      "outputs": [
        {
          "output_type": "execute_result",
          "data": {
            "text/plain": [
              "<tf.Tensor: shape=(1, 224, 224, 3), dtype=float32, numpy=\n",
              "array([[[[-1.3439283 , -0.4599228 ,  0.683877  ],\n",
              "         [-0.0786004 ,  0.48405337, -0.2809769 ],\n",
              "         [ 0.97056085, -0.33109573, -0.2749624 ],\n",
              "         ...,\n",
              "         [-0.95627075, -0.73960096, -0.5376725 ],\n",
              "         [-1.0573492 ,  1.2474251 , -1.8117028 ],\n",
              "         [-2.4591591 , -0.7624955 , -0.27922407]],\n",
              "\n",
              "        [[ 0.83559763,  0.4883239 , -0.32644302],\n",
              "         [ 0.76833147,  1.4723433 , -1.2558787 ],\n",
              "         [-1.4637932 ,  0.16058707, -1.456632  ],\n",
              "         ...,\n",
              "         [ 1.8569008 ,  0.2182672 ,  0.5554358 ],\n",
              "         [ 0.27321455, -0.72538817, -1.9232535 ],\n",
              "         [ 1.639396  , -1.0947585 , -1.3753735 ]],\n",
              "\n",
              "        [[-0.4943404 , -1.1795999 , -0.11746896],\n",
              "         [-0.26266363, -0.6127106 , -1.8998497 ],\n",
              "         [ 1.2748008 ,  1.3314103 , -0.6186011 ],\n",
              "         ...,\n",
              "         [ 0.29339603,  0.02488334, -0.45498395],\n",
              "         [ 0.29865885,  1.3306736 , -0.88237   ],\n",
              "         [-0.79015124, -1.3738977 ,  0.27062687]],\n",
              "\n",
              "        ...,\n",
              "\n",
              "        [[ 0.00890886, -0.3686935 , -1.0758473 ],\n",
              "         [-1.8093699 ,  0.8773108 , -1.6933521 ],\n",
              "         [-0.5202495 , -0.03316645, -0.10791042],\n",
              "         ...,\n",
              "         [-0.24333464,  0.39691842,  0.35759103],\n",
              "         [ 1.7648255 ,  0.70276004, -0.13320152],\n",
              "         [-2.025486  ,  0.26713806,  0.47299024]],\n",
              "\n",
              "        [[-1.6024773 ,  0.03971797,  0.53581023],\n",
              "         [ 1.0342293 ,  0.78849095,  1.8214045 ],\n",
              "         [ 0.71331424, -0.41960698,  1.1806798 ],\n",
              "         ...,\n",
              "         [ 0.6646908 , -0.9235115 , -1.1261673 ],\n",
              "         [ 0.0513954 , -0.04134747,  0.7223674 ],\n",
              "         [ 0.8635071 ,  0.27976823, -0.30966854]],\n",
              "\n",
              "        [[-0.8725118 , -0.46852782,  0.1188276 ],\n",
              "         [ 0.17654727, -0.04768973,  0.5617343 ],\n",
              "         [-0.1031903 ,  0.60937583, -1.0750942 ],\n",
              "         ...,\n",
              "         [-0.71506727,  0.69492763,  1.0378722 ],\n",
              "         [ 0.2461241 , -1.3822978 ,  0.9131164 ],\n",
              "         [ 0.5464228 ,  0.07794673,  0.10181618]]]], dtype=float32)>"
            ]
          },
          "metadata": {},
          "execution_count": 65
        }
      ]
    },
    {
      "cell_type": "code",
      "source": [
        "R5= tf.squeeze(R4)\n",
        "R5, tf.shape(R5)"
      ],
      "metadata": {
        "colab": {
          "base_uri": "https://localhost:8080/"
        },
        "id": "2QYBModk9kx7",
        "outputId": "a31a5817-af8b-4436-f904-93f873f55a72"
      },
      "execution_count": null,
      "outputs": [
        {
          "output_type": "execute_result",
          "data": {
            "text/plain": [
              "(<tf.Tensor: shape=(224, 224, 3), dtype=float32, numpy=\n",
              " array([[[-1.3439283 , -0.4599228 ,  0.683877  ],\n",
              "         [-0.0786004 ,  0.48405337, -0.2809769 ],\n",
              "         [ 0.97056085, -0.33109573, -0.2749624 ],\n",
              "         ...,\n",
              "         [-0.95627075, -0.73960096, -0.5376725 ],\n",
              "         [-1.0573492 ,  1.2474251 , -1.8117028 ],\n",
              "         [-2.4591591 , -0.7624955 , -0.27922407]],\n",
              " \n",
              "        [[ 0.83559763,  0.4883239 , -0.32644302],\n",
              "         [ 0.76833147,  1.4723433 , -1.2558787 ],\n",
              "         [-1.4637932 ,  0.16058707, -1.456632  ],\n",
              "         ...,\n",
              "         [ 1.8569008 ,  0.2182672 ,  0.5554358 ],\n",
              "         [ 0.27321455, -0.72538817, -1.9232535 ],\n",
              "         [ 1.639396  , -1.0947585 , -1.3753735 ]],\n",
              " \n",
              "        [[-0.4943404 , -1.1795999 , -0.11746896],\n",
              "         [-0.26266363, -0.6127106 , -1.8998497 ],\n",
              "         [ 1.2748008 ,  1.3314103 , -0.6186011 ],\n",
              "         ...,\n",
              "         [ 0.29339603,  0.02488334, -0.45498395],\n",
              "         [ 0.29865885,  1.3306736 , -0.88237   ],\n",
              "         [-0.79015124, -1.3738977 ,  0.27062687]],\n",
              " \n",
              "        ...,\n",
              " \n",
              "        [[ 0.00890886, -0.3686935 , -1.0758473 ],\n",
              "         [-1.8093699 ,  0.8773108 , -1.6933521 ],\n",
              "         [-0.5202495 , -0.03316645, -0.10791042],\n",
              "         ...,\n",
              "         [-0.24333464,  0.39691842,  0.35759103],\n",
              "         [ 1.7648255 ,  0.70276004, -0.13320152],\n",
              "         [-2.025486  ,  0.26713806,  0.47299024]],\n",
              " \n",
              "        [[-1.6024773 ,  0.03971797,  0.53581023],\n",
              "         [ 1.0342293 ,  0.78849095,  1.8214045 ],\n",
              "         [ 0.71331424, -0.41960698,  1.1806798 ],\n",
              "         ...,\n",
              "         [ 0.6646908 , -0.9235115 , -1.1261673 ],\n",
              "         [ 0.0513954 , -0.04134747,  0.7223674 ],\n",
              "         [ 0.8635071 ,  0.27976823, -0.30966854]],\n",
              " \n",
              "        [[-0.8725118 , -0.46852782,  0.1188276 ],\n",
              "         [ 0.17654727, -0.04768973,  0.5617343 ],\n",
              "         [-0.1031903 ,  0.60937583, -1.0750942 ],\n",
              "         ...,\n",
              "         [-0.71506727,  0.69492763,  1.0378722 ],\n",
              "         [ 0.2461241 , -1.3822978 ,  0.9131164 ],\n",
              "         [ 0.5464228 ,  0.07794673,  0.10181618]]], dtype=float32)>,\n",
              " <tf.Tensor: shape=(3,), dtype=int32, numpy=array([224, 224,   3], dtype=int32)>)"
            ]
          },
          "metadata": {},
          "execution_count": 66
        }
      ]
    },
    {
      "cell_type": "markdown",
      "source": [
        "* 8"
      ],
      "metadata": {
        "id": "QXIbkVW3-vk4"
      }
    },
    {
      "cell_type": "code",
      "source": [
        "R6 = tf.constant([23, 7654, 536, 645, 45, 75, 867, 876, 8079, 698])\n",
        "R6[tf.argmax(R6)]"
      ],
      "metadata": {
        "colab": {
          "base_uri": "https://localhost:8080/"
        },
        "id": "UIoJBtmV-lgR",
        "outputId": "cbdf98e2-d092-403e-9565-6a5c9a4a26d6"
      },
      "execution_count": null,
      "outputs": [
        {
          "output_type": "execute_result",
          "data": {
            "text/plain": [
              "<tf.Tensor: shape=(), dtype=int32, numpy=8079>"
            ]
          },
          "metadata": {},
          "execution_count": 68
        }
      ]
    },
    {
      "cell_type": "markdown",
      "source": [
        "* 9"
      ],
      "metadata": {
        "id": "e3Ezqv4c_j5I"
      }
    },
    {
      "cell_type": "code",
      "source": [
        "tf.one_hot(R6, depth=10)"
      ],
      "metadata": {
        "colab": {
          "base_uri": "https://localhost:8080/"
        },
        "id": "FKMU3_dZ_H0r",
        "outputId": "348655d8-bc5a-46cc-a2ba-969220e7bafa"
      },
      "execution_count": null,
      "outputs": [
        {
          "output_type": "execute_result",
          "data": {
            "text/plain": [
              "<tf.Tensor: shape=(10, 10), dtype=float32, numpy=\n",
              "array([[0., 0., 0., 0., 0., 0., 0., 0., 0., 0.],\n",
              "       [0., 0., 0., 0., 0., 0., 0., 0., 0., 0.],\n",
              "       [0., 0., 0., 0., 0., 0., 0., 0., 0., 0.],\n",
              "       [0., 0., 0., 0., 0., 0., 0., 0., 0., 0.],\n",
              "       [0., 0., 0., 0., 0., 0., 0., 0., 0., 0.],\n",
              "       [0., 0., 0., 0., 0., 0., 0., 0., 0., 0.],\n",
              "       [0., 0., 0., 0., 0., 0., 0., 0., 0., 0.],\n",
              "       [0., 0., 0., 0., 0., 0., 0., 0., 0., 0.],\n",
              "       [0., 0., 0., 0., 0., 0., 0., 0., 0., 0.],\n",
              "       [0., 0., 0., 0., 0., 0., 0., 0., 0., 0.]], dtype=float32)>"
            ]
          },
          "metadata": {},
          "execution_count": 69
        }
      ]
    },
    {
      "cell_type": "code",
      "source": [],
      "metadata": {
        "id": "mtqSgdN4Vsxu"
      },
      "execution_count": null,
      "outputs": []
    },
    {
      "cell_type": "markdown",
      "source": [
        "* 10"
      ],
      "metadata": {
        "id": "ksdhEnYN_7Ev"
      }
    },
    {
      "cell_type": "code",
      "source": [],
      "metadata": {
        "id": "l9x1dU1p_4gE"
      },
      "execution_count": null,
      "outputs": []
    }
  ]
}